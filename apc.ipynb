{
  "cells": [
    {
      "cell_type": "markdown",
      "source": "# PCA et aide à l'interprétation",
      "metadata": {
        "tags": [],
        "cell_id": "00000-9b07c48b-ddba-4673-8ec5-39d36b3fb9f4",
        "deepnote_cell_type": "markdown"
      }
    },
    {
      "cell_type": "markdown",
      "source": "## I. Import Modules, configs",
      "metadata": {
        "tags": [],
        "cell_id": "00001-6ac9b92b-97a7-4c49-b2a1-2559a336e73a",
        "deepnote_cell_type": "text-cell-h2"
      }
    },
    {
      "cell_type": "code",
      "metadata": {
        "tags": [],
        "cell_id": "00002-8b28491d-a7c8-4804-b825-29aa769e2706",
        "deepnote_to_be_reexecuted": false,
        "source_hash": "c097a0bf",
        "execution_millis": 364,
        "execution_start": 1619175902818,
        "deepnote_cell_type": "code"
      },
      "source": "import pandas as pd\nimport numpy as np\nimport matplotlib.pyplot as plt\npd.set_option('display.float_format', lambda x: '%.3f' % x) #round float",
      "execution_count": 1,
      "outputs": []
    },
    {
      "cell_type": "markdown",
      "source": "## II. Import dataset",
      "metadata": {
        "tags": [],
        "cell_id": "00003-f9879296-9f92-4bda-980d-4ba6310bfddb",
        "deepnote_cell_type": "text-cell-h2"
      }
    },
    {
      "cell_type": "code",
      "metadata": {
        "tags": [],
        "cell_id": "00004-ef37ca92-b622-4b18-bad9-5dae766063cf",
        "deepnote_to_be_reexecuted": false,
        "source_hash": "5734d081",
        "execution_millis": 15,
        "execution_start": 1619175906334,
        "deepnote_cell_type": "code"
      },
      "source": "df = pd.read_excel('/work/cars.xls', index_col='Modele')",
      "execution_count": 3,
      "outputs": []
    },
    {
      "cell_type": "markdown",
      "source": "## III. Data analysis",
      "metadata": {
        "tags": [],
        "cell_id": "00005-58fec4eb-a171-4e59-9ccf-7fb7df7df602",
        "deepnote_cell_type": "text-cell-h2"
      }
    },
    {
      "cell_type": "code",
      "metadata": {
        "tags": [],
        "cell_id": "00006-117af3ce-9a91-46b1-a577-3ce004ba74c1",
        "deepnote_to_be_reexecuted": false,
        "source_hash": "a6c31918",
        "execution_millis": 1,
        "execution_start": 1619175906354,
        "deepnote_cell_type": "code"
      },
      "source": "df = df.drop(['PRIX', 'FINITION', 'R-POID.PUIS'], axis=1)",
      "execution_count": 4,
      "outputs": []
    },
    {
      "cell_type": "code",
      "metadata": {
        "tags": [],
        "cell_id": "00006-8ec61905-9cd9-4e11-b838-65df75c11be1",
        "deepnote_to_be_reexecuted": false,
        "source_hash": "14f60b8f",
        "execution_millis": 13,
        "execution_start": 1619175906360,
        "deepnote_cell_type": "code"
      },
      "source": "df.shape",
      "execution_count": 5,
      "outputs": [
        {
          "output_type": "execute_result",
          "execution_count": 5,
          "data": {
            "text/plain": "(18, 6)"
          },
          "metadata": {}
        }
      ]
    },
    {
      "cell_type": "code",
      "metadata": {
        "tags": [],
        "cell_id": "00007-263a79a8-15d3-4a93-bc45-0aa3c6178aa5",
        "deepnote_to_be_reexecuted": false,
        "source_hash": "900b934f",
        "execution_millis": 4,
        "execution_start": 1619175906369,
        "deepnote_cell_type": "code"
      },
      "source": "# Number of observations\nn = df.shape[0]",
      "execution_count": 6,
      "outputs": []
    },
    {
      "cell_type": "code",
      "metadata": {
        "tags": [],
        "cell_id": "00008-564d371b-fae3-48a2-94c9-d401791d9373",
        "deepnote_to_be_reexecuted": false,
        "source_hash": "27bd2156",
        "execution_millis": 0,
        "execution_start": 1619175906411,
        "deepnote_cell_type": "code"
      },
      "source": "# Number of variables\np = df.shape[1]",
      "execution_count": 7,
      "outputs": []
    },
    {
      "cell_type": "code",
      "metadata": {
        "tags": [],
        "cell_id": "00009-1d834b47-1374-4704-9333-5a1e37623bf7",
        "deepnote_to_be_reexecuted": false,
        "source_hash": "f026cc74",
        "execution_millis": 25,
        "execution_start": 1619175906411,
        "deepnote_cell_type": "code"
      },
      "source": "# Frist look at the data\ndf.head()",
      "execution_count": 8,
      "outputs": [
        {
          "output_type": "execute_result",
          "execution_count": 8,
          "data": {
            "application/vnd.deepnote.dataframe.v2+json": {
              "row_count": 5,
              "column_count": 6,
              "columns": [
                {
                  "name": "CYL",
                  "dtype": "int64",
                  "stats": {
                    "unique_count": 5,
                    "nan_count": 0,
                    "min": "1222",
                    "max": "1588",
                    "histogram": [
                      {
                        "bin_start": 1222,
                        "bin_end": 1258.6,
                        "count": 1
                      },
                      {
                        "bin_start": 1258.6,
                        "bin_end": 1295.2,
                        "count": 1
                      },
                      {
                        "bin_start": 1295.2,
                        "bin_end": 1331.8,
                        "count": 0
                      },
                      {
                        "bin_start": 1331.8,
                        "bin_end": 1368.4,
                        "count": 1
                      },
                      {
                        "bin_start": 1368.4,
                        "bin_end": 1405,
                        "count": 0
                      },
                      {
                        "bin_start": 1405,
                        "bin_end": 1441.6,
                        "count": 0
                      },
                      {
                        "bin_start": 1441.6,
                        "bin_end": 1478.2,
                        "count": 0
                      },
                      {
                        "bin_start": 1478.2,
                        "bin_end": 1514.8,
                        "count": 0
                      },
                      {
                        "bin_start": 1514.8,
                        "bin_end": 1551.4,
                        "count": 0
                      },
                      {
                        "bin_start": 1551.4,
                        "bin_end": 1588,
                        "count": 2
                      }
                    ]
                  }
                },
                {
                  "name": "PUISS",
                  "dtype": "int64",
                  "stats": {
                    "unique_count": 5,
                    "nan_count": 0,
                    "min": "59",
                    "max": "98",
                    "histogram": [
                      {
                        "bin_start": 59,
                        "bin_end": 62.9,
                        "count": 1
                      },
                      {
                        "bin_start": 62.9,
                        "bin_end": 66.8,
                        "count": 0
                      },
                      {
                        "bin_start": 66.8,
                        "bin_end": 70.7,
                        "count": 1
                      },
                      {
                        "bin_start": 70.7,
                        "bin_end": 74.6,
                        "count": 0
                      },
                      {
                        "bin_start": 74.6,
                        "bin_end": 78.5,
                        "count": 0
                      },
                      {
                        "bin_start": 78.5,
                        "bin_end": 82.4,
                        "count": 1
                      },
                      {
                        "bin_start": 82.4,
                        "bin_end": 86.3,
                        "count": 1
                      },
                      {
                        "bin_start": 86.3,
                        "bin_end": 90.2,
                        "count": 0
                      },
                      {
                        "bin_start": 90.2,
                        "bin_end": 94.1,
                        "count": 0
                      },
                      {
                        "bin_start": 94.1,
                        "bin_end": 98,
                        "count": 1
                      }
                    ]
                  }
                },
                {
                  "name": "LONG",
                  "dtype": "int64",
                  "stats": {
                    "unique_count": 5,
                    "nan_count": 0,
                    "min": "393",
                    "max": "468",
                    "histogram": [
                      {
                        "bin_start": 393,
                        "bin_end": 400.5,
                        "count": 1
                      },
                      {
                        "bin_start": 400.5,
                        "bin_end": 408,
                        "count": 0
                      },
                      {
                        "bin_start": 408,
                        "bin_end": 415.5,
                        "count": 1
                      },
                      {
                        "bin_start": 415.5,
                        "bin_end": 423,
                        "count": 0
                      },
                      {
                        "bin_start": 423,
                        "bin_end": 430.5,
                        "count": 1
                      },
                      {
                        "bin_start": 430.5,
                        "bin_end": 438,
                        "count": 0
                      },
                      {
                        "bin_start": 438,
                        "bin_end": 445.5,
                        "count": 1
                      },
                      {
                        "bin_start": 445.5,
                        "bin_end": 453,
                        "count": 0
                      },
                      {
                        "bin_start": 453,
                        "bin_end": 460.5,
                        "count": 0
                      },
                      {
                        "bin_start": 460.5,
                        "bin_end": 468,
                        "count": 1
                      }
                    ]
                  }
                },
                {
                  "name": "LARG",
                  "dtype": "int64",
                  "stats": {
                    "unique_count": 4,
                    "nan_count": 0,
                    "min": "161",
                    "max": "177",
                    "histogram": [
                      {
                        "bin_start": 161,
                        "bin_end": 162.6,
                        "count": 2
                      },
                      {
                        "bin_start": 162.6,
                        "bin_end": 164.2,
                        "count": 1
                      },
                      {
                        "bin_start": 164.2,
                        "bin_end": 165.8,
                        "count": 0
                      },
                      {
                        "bin_start": 165.8,
                        "bin_end": 167.4,
                        "count": 0
                      },
                      {
                        "bin_start": 167.4,
                        "bin_end": 169,
                        "count": 1
                      },
                      {
                        "bin_start": 169,
                        "bin_end": 170.6,
                        "count": 0
                      },
                      {
                        "bin_start": 170.6,
                        "bin_end": 172.2,
                        "count": 0
                      },
                      {
                        "bin_start": 172.2,
                        "bin_end": 173.8,
                        "count": 0
                      },
                      {
                        "bin_start": 173.8,
                        "bin_end": 175.4,
                        "count": 0
                      },
                      {
                        "bin_start": 175.4,
                        "bin_end": 177,
                        "count": 1
                      }
                    ]
                  }
                },
                {
                  "name": "POIDS",
                  "dtype": "int64",
                  "stats": {
                    "unique_count": 5,
                    "nan_count": 0,
                    "min": "870",
                    "max": "1110",
                    "histogram": [
                      {
                        "bin_start": 870,
                        "bin_end": 894,
                        "count": 1
                      },
                      {
                        "bin_start": 894,
                        "bin_end": 918,
                        "count": 0
                      },
                      {
                        "bin_start": 918,
                        "bin_end": 942,
                        "count": 1
                      },
                      {
                        "bin_start": 942,
                        "bin_end": 966,
                        "count": 0
                      },
                      {
                        "bin_start": 966,
                        "bin_end": 990,
                        "count": 0
                      },
                      {
                        "bin_start": 990,
                        "bin_end": 1014,
                        "count": 0
                      },
                      {
                        "bin_start": 1014,
                        "bin_end": 1038,
                        "count": 0
                      },
                      {
                        "bin_start": 1038,
                        "bin_end": 1062,
                        "count": 1
                      },
                      {
                        "bin_start": 1062,
                        "bin_end": 1086,
                        "count": 0
                      },
                      {
                        "bin_start": 1086,
                        "bin_end": 1110,
                        "count": 2
                      }
                    ]
                  }
                },
                {
                  "name": "V-MAX",
                  "dtype": "int64",
                  "stats": {
                    "unique_count": 4,
                    "nan_count": 0,
                    "min": "151",
                    "max": "165",
                    "histogram": [
                      {
                        "bin_start": 151,
                        "bin_end": 152.4,
                        "count": 2
                      },
                      {
                        "bin_start": 152.4,
                        "bin_end": 153.8,
                        "count": 0
                      },
                      {
                        "bin_start": 153.8,
                        "bin_end": 155.2,
                        "count": 0
                      },
                      {
                        "bin_start": 155.2,
                        "bin_end": 156.6,
                        "count": 0
                      },
                      {
                        "bin_start": 156.6,
                        "bin_end": 158,
                        "count": 0
                      },
                      {
                        "bin_start": 158,
                        "bin_end": 159.4,
                        "count": 0
                      },
                      {
                        "bin_start": 159.4,
                        "bin_end": 160.8,
                        "count": 1
                      },
                      {
                        "bin_start": 160.8,
                        "bin_end": 162.2,
                        "count": 0
                      },
                      {
                        "bin_start": 162.2,
                        "bin_end": 163.6,
                        "count": 0
                      },
                      {
                        "bin_start": 163.6,
                        "bin_end": 165,
                        "count": 2
                      }
                    ]
                  }
                },
                {
                  "name": "_deepnote_index_column",
                  "dtype": "object"
                }
              ],
              "rows_top": [
                {
                  "CYL": 1350,
                  "PUISS": 79,
                  "LONG": 393,
                  "LARG": 161,
                  "POIDS": 870,
                  "V-MAX": 165,
                  "_deepnote_index_column": "Alfasud TI"
                },
                {
                  "CYL": 1588,
                  "PUISS": 85,
                  "LONG": 468,
                  "LARG": 177,
                  "POIDS": 1110,
                  "V-MAX": 160,
                  "_deepnote_index_column": "Audi 100"
                },
                {
                  "CYL": 1294,
                  "PUISS": 68,
                  "LONG": 424,
                  "LARG": 168,
                  "POIDS": 1050,
                  "V-MAX": 152,
                  "_deepnote_index_column": "Simca 1300"
                },
                {
                  "CYL": 1222,
                  "PUISS": 59,
                  "LONG": 412,
                  "LARG": 161,
                  "POIDS": 930,
                  "V-MAX": 151,
                  "_deepnote_index_column": "Citroen GS Club"
                },
                {
                  "CYL": 1585,
                  "PUISS": 98,
                  "LONG": 439,
                  "LARG": 164,
                  "POIDS": 1105,
                  "V-MAX": 165,
                  "_deepnote_index_column": "Fiat 132"
                }
              ],
              "rows_bottom": null
            },
            "text/plain": "                  CYL  PUISS  LONG  LARG  POIDS  V-MAX\nModele                                                \nAlfasud TI       1350     79   393   161    870    165\nAudi 100         1588     85   468   177   1110    160\nSimca 1300       1294     68   424   168   1050    152\nCitroen GS Club  1222     59   412   161    930    151\nFiat 132         1585     98   439   164   1105    165",
            "text/html": "<div>\n<style scoped>\n    .dataframe tbody tr th:only-of-type {\n        vertical-align: middle;\n    }\n\n    .dataframe tbody tr th {\n        vertical-align: top;\n    }\n\n    .dataframe thead th {\n        text-align: right;\n    }\n</style>\n<table border=\"1\" class=\"dataframe\">\n  <thead>\n    <tr style=\"text-align: right;\">\n      <th></th>\n      <th>CYL</th>\n      <th>PUISS</th>\n      <th>LONG</th>\n      <th>LARG</th>\n      <th>POIDS</th>\n      <th>V-MAX</th>\n    </tr>\n    <tr>\n      <th>Modele</th>\n      <th></th>\n      <th></th>\n      <th></th>\n      <th></th>\n      <th></th>\n      <th></th>\n    </tr>\n  </thead>\n  <tbody>\n    <tr>\n      <th>Alfasud TI</th>\n      <td>1350</td>\n      <td>79</td>\n      <td>393</td>\n      <td>161</td>\n      <td>870</td>\n      <td>165</td>\n    </tr>\n    <tr>\n      <th>Audi 100</th>\n      <td>1588</td>\n      <td>85</td>\n      <td>468</td>\n      <td>177</td>\n      <td>1110</td>\n      <td>160</td>\n    </tr>\n    <tr>\n      <th>Simca 1300</th>\n      <td>1294</td>\n      <td>68</td>\n      <td>424</td>\n      <td>168</td>\n      <td>1050</td>\n      <td>152</td>\n    </tr>\n    <tr>\n      <th>Citroen GS Club</th>\n      <td>1222</td>\n      <td>59</td>\n      <td>412</td>\n      <td>161</td>\n      <td>930</td>\n      <td>151</td>\n    </tr>\n    <tr>\n      <th>Fiat 132</th>\n      <td>1585</td>\n      <td>98</td>\n      <td>439</td>\n      <td>164</td>\n      <td>1105</td>\n      <td>165</td>\n    </tr>\n  </tbody>\n</table>\n</div>"
          },
          "metadata": {}
        }
      ]
    },
    {
      "cell_type": "code",
      "metadata": {
        "tags": [],
        "cell_id": "00010-e4d5c427-e679-4950-81e4-94e675cc363e",
        "deepnote_to_be_reexecuted": false,
        "source_hash": "475559fe",
        "execution_millis": 37,
        "execution_start": 1619175906416,
        "deepnote_cell_type": "code"
      },
      "source": "# Check data types\ndf.dtypes",
      "execution_count": 9,
      "outputs": [
        {
          "output_type": "execute_result",
          "execution_count": 9,
          "data": {
            "text/plain": "CYL      int64\nPUISS    int64\nLONG     int64\nLARG     int64\nPOIDS    int64\nV-MAX    int64\ndtype: object"
          },
          "metadata": {}
        }
      ]
    },
    {
      "cell_type": "code",
      "metadata": {
        "tags": [],
        "cell_id": "00013-7079ea5e-6799-40c5-aa68-36557a1c85a7",
        "deepnote_to_be_reexecuted": false,
        "source_hash": "eaa2d265",
        "execution_millis": 52,
        "execution_start": 1619175906422,
        "deepnote_cell_type": "code"
      },
      "source": "df_copy = df.copy()\ndf_copy.head()",
      "execution_count": 10,
      "outputs": [
        {
          "output_type": "execute_result",
          "execution_count": 10,
          "data": {
            "application/vnd.deepnote.dataframe.v2+json": {
              "row_count": 5,
              "column_count": 6,
              "columns": [
                {
                  "name": "CYL",
                  "dtype": "int64",
                  "stats": {
                    "unique_count": 5,
                    "nan_count": 0,
                    "min": "1222",
                    "max": "1588",
                    "histogram": [
                      {
                        "bin_start": 1222,
                        "bin_end": 1258.6,
                        "count": 1
                      },
                      {
                        "bin_start": 1258.6,
                        "bin_end": 1295.2,
                        "count": 1
                      },
                      {
                        "bin_start": 1295.2,
                        "bin_end": 1331.8,
                        "count": 0
                      },
                      {
                        "bin_start": 1331.8,
                        "bin_end": 1368.4,
                        "count": 1
                      },
                      {
                        "bin_start": 1368.4,
                        "bin_end": 1405,
                        "count": 0
                      },
                      {
                        "bin_start": 1405,
                        "bin_end": 1441.6,
                        "count": 0
                      },
                      {
                        "bin_start": 1441.6,
                        "bin_end": 1478.2,
                        "count": 0
                      },
                      {
                        "bin_start": 1478.2,
                        "bin_end": 1514.8,
                        "count": 0
                      },
                      {
                        "bin_start": 1514.8,
                        "bin_end": 1551.4,
                        "count": 0
                      },
                      {
                        "bin_start": 1551.4,
                        "bin_end": 1588,
                        "count": 2
                      }
                    ]
                  }
                },
                {
                  "name": "PUISS",
                  "dtype": "int64",
                  "stats": {
                    "unique_count": 5,
                    "nan_count": 0,
                    "min": "59",
                    "max": "98",
                    "histogram": [
                      {
                        "bin_start": 59,
                        "bin_end": 62.9,
                        "count": 1
                      },
                      {
                        "bin_start": 62.9,
                        "bin_end": 66.8,
                        "count": 0
                      },
                      {
                        "bin_start": 66.8,
                        "bin_end": 70.7,
                        "count": 1
                      },
                      {
                        "bin_start": 70.7,
                        "bin_end": 74.6,
                        "count": 0
                      },
                      {
                        "bin_start": 74.6,
                        "bin_end": 78.5,
                        "count": 0
                      },
                      {
                        "bin_start": 78.5,
                        "bin_end": 82.4,
                        "count": 1
                      },
                      {
                        "bin_start": 82.4,
                        "bin_end": 86.3,
                        "count": 1
                      },
                      {
                        "bin_start": 86.3,
                        "bin_end": 90.2,
                        "count": 0
                      },
                      {
                        "bin_start": 90.2,
                        "bin_end": 94.1,
                        "count": 0
                      },
                      {
                        "bin_start": 94.1,
                        "bin_end": 98,
                        "count": 1
                      }
                    ]
                  }
                },
                {
                  "name": "LONG",
                  "dtype": "int64",
                  "stats": {
                    "unique_count": 5,
                    "nan_count": 0,
                    "min": "393",
                    "max": "468",
                    "histogram": [
                      {
                        "bin_start": 393,
                        "bin_end": 400.5,
                        "count": 1
                      },
                      {
                        "bin_start": 400.5,
                        "bin_end": 408,
                        "count": 0
                      },
                      {
                        "bin_start": 408,
                        "bin_end": 415.5,
                        "count": 1
                      },
                      {
                        "bin_start": 415.5,
                        "bin_end": 423,
                        "count": 0
                      },
                      {
                        "bin_start": 423,
                        "bin_end": 430.5,
                        "count": 1
                      },
                      {
                        "bin_start": 430.5,
                        "bin_end": 438,
                        "count": 0
                      },
                      {
                        "bin_start": 438,
                        "bin_end": 445.5,
                        "count": 1
                      },
                      {
                        "bin_start": 445.5,
                        "bin_end": 453,
                        "count": 0
                      },
                      {
                        "bin_start": 453,
                        "bin_end": 460.5,
                        "count": 0
                      },
                      {
                        "bin_start": 460.5,
                        "bin_end": 468,
                        "count": 1
                      }
                    ]
                  }
                },
                {
                  "name": "LARG",
                  "dtype": "int64",
                  "stats": {
                    "unique_count": 4,
                    "nan_count": 0,
                    "min": "161",
                    "max": "177",
                    "histogram": [
                      {
                        "bin_start": 161,
                        "bin_end": 162.6,
                        "count": 2
                      },
                      {
                        "bin_start": 162.6,
                        "bin_end": 164.2,
                        "count": 1
                      },
                      {
                        "bin_start": 164.2,
                        "bin_end": 165.8,
                        "count": 0
                      },
                      {
                        "bin_start": 165.8,
                        "bin_end": 167.4,
                        "count": 0
                      },
                      {
                        "bin_start": 167.4,
                        "bin_end": 169,
                        "count": 1
                      },
                      {
                        "bin_start": 169,
                        "bin_end": 170.6,
                        "count": 0
                      },
                      {
                        "bin_start": 170.6,
                        "bin_end": 172.2,
                        "count": 0
                      },
                      {
                        "bin_start": 172.2,
                        "bin_end": 173.8,
                        "count": 0
                      },
                      {
                        "bin_start": 173.8,
                        "bin_end": 175.4,
                        "count": 0
                      },
                      {
                        "bin_start": 175.4,
                        "bin_end": 177,
                        "count": 1
                      }
                    ]
                  }
                },
                {
                  "name": "POIDS",
                  "dtype": "int64",
                  "stats": {
                    "unique_count": 5,
                    "nan_count": 0,
                    "min": "870",
                    "max": "1110",
                    "histogram": [
                      {
                        "bin_start": 870,
                        "bin_end": 894,
                        "count": 1
                      },
                      {
                        "bin_start": 894,
                        "bin_end": 918,
                        "count": 0
                      },
                      {
                        "bin_start": 918,
                        "bin_end": 942,
                        "count": 1
                      },
                      {
                        "bin_start": 942,
                        "bin_end": 966,
                        "count": 0
                      },
                      {
                        "bin_start": 966,
                        "bin_end": 990,
                        "count": 0
                      },
                      {
                        "bin_start": 990,
                        "bin_end": 1014,
                        "count": 0
                      },
                      {
                        "bin_start": 1014,
                        "bin_end": 1038,
                        "count": 0
                      },
                      {
                        "bin_start": 1038,
                        "bin_end": 1062,
                        "count": 1
                      },
                      {
                        "bin_start": 1062,
                        "bin_end": 1086,
                        "count": 0
                      },
                      {
                        "bin_start": 1086,
                        "bin_end": 1110,
                        "count": 2
                      }
                    ]
                  }
                },
                {
                  "name": "V-MAX",
                  "dtype": "int64",
                  "stats": {
                    "unique_count": 4,
                    "nan_count": 0,
                    "min": "151",
                    "max": "165",
                    "histogram": [
                      {
                        "bin_start": 151,
                        "bin_end": 152.4,
                        "count": 2
                      },
                      {
                        "bin_start": 152.4,
                        "bin_end": 153.8,
                        "count": 0
                      },
                      {
                        "bin_start": 153.8,
                        "bin_end": 155.2,
                        "count": 0
                      },
                      {
                        "bin_start": 155.2,
                        "bin_end": 156.6,
                        "count": 0
                      },
                      {
                        "bin_start": 156.6,
                        "bin_end": 158,
                        "count": 0
                      },
                      {
                        "bin_start": 158,
                        "bin_end": 159.4,
                        "count": 0
                      },
                      {
                        "bin_start": 159.4,
                        "bin_end": 160.8,
                        "count": 1
                      },
                      {
                        "bin_start": 160.8,
                        "bin_end": 162.2,
                        "count": 0
                      },
                      {
                        "bin_start": 162.2,
                        "bin_end": 163.6,
                        "count": 0
                      },
                      {
                        "bin_start": 163.6,
                        "bin_end": 165,
                        "count": 2
                      }
                    ]
                  }
                },
                {
                  "name": "_deepnote_index_column",
                  "dtype": "object"
                }
              ],
              "rows_top": [
                {
                  "CYL": 1350,
                  "PUISS": 79,
                  "LONG": 393,
                  "LARG": 161,
                  "POIDS": 870,
                  "V-MAX": 165,
                  "_deepnote_index_column": "Alfasud TI"
                },
                {
                  "CYL": 1588,
                  "PUISS": 85,
                  "LONG": 468,
                  "LARG": 177,
                  "POIDS": 1110,
                  "V-MAX": 160,
                  "_deepnote_index_column": "Audi 100"
                },
                {
                  "CYL": 1294,
                  "PUISS": 68,
                  "LONG": 424,
                  "LARG": 168,
                  "POIDS": 1050,
                  "V-MAX": 152,
                  "_deepnote_index_column": "Simca 1300"
                },
                {
                  "CYL": 1222,
                  "PUISS": 59,
                  "LONG": 412,
                  "LARG": 161,
                  "POIDS": 930,
                  "V-MAX": 151,
                  "_deepnote_index_column": "Citroen GS Club"
                },
                {
                  "CYL": 1585,
                  "PUISS": 98,
                  "LONG": 439,
                  "LARG": 164,
                  "POIDS": 1105,
                  "V-MAX": 165,
                  "_deepnote_index_column": "Fiat 132"
                }
              ],
              "rows_bottom": null
            },
            "text/plain": "                  CYL  PUISS  LONG  LARG  POIDS  V-MAX\nModele                                                \nAlfasud TI       1350     79   393   161    870    165\nAudi 100         1588     85   468   177   1110    160\nSimca 1300       1294     68   424   168   1050    152\nCitroen GS Club  1222     59   412   161    930    151\nFiat 132         1585     98   439   164   1105    165",
            "text/html": "<div>\n<style scoped>\n    .dataframe tbody tr th:only-of-type {\n        vertical-align: middle;\n    }\n\n    .dataframe tbody tr th {\n        vertical-align: top;\n    }\n\n    .dataframe thead th {\n        text-align: right;\n    }\n</style>\n<table border=\"1\" class=\"dataframe\">\n  <thead>\n    <tr style=\"text-align: right;\">\n      <th></th>\n      <th>CYL</th>\n      <th>PUISS</th>\n      <th>LONG</th>\n      <th>LARG</th>\n      <th>POIDS</th>\n      <th>V-MAX</th>\n    </tr>\n    <tr>\n      <th>Modele</th>\n      <th></th>\n      <th></th>\n      <th></th>\n      <th></th>\n      <th></th>\n      <th></th>\n    </tr>\n  </thead>\n  <tbody>\n    <tr>\n      <th>Alfasud TI</th>\n      <td>1350</td>\n      <td>79</td>\n      <td>393</td>\n      <td>161</td>\n      <td>870</td>\n      <td>165</td>\n    </tr>\n    <tr>\n      <th>Audi 100</th>\n      <td>1588</td>\n      <td>85</td>\n      <td>468</td>\n      <td>177</td>\n      <td>1110</td>\n      <td>160</td>\n    </tr>\n    <tr>\n      <th>Simca 1300</th>\n      <td>1294</td>\n      <td>68</td>\n      <td>424</td>\n      <td>168</td>\n      <td>1050</td>\n      <td>152</td>\n    </tr>\n    <tr>\n      <th>Citroen GS Club</th>\n      <td>1222</td>\n      <td>59</td>\n      <td>412</td>\n      <td>161</td>\n      <td>930</td>\n      <td>151</td>\n    </tr>\n    <tr>\n      <th>Fiat 132</th>\n      <td>1585</td>\n      <td>98</td>\n      <td>439</td>\n      <td>164</td>\n      <td>1105</td>\n      <td>165</td>\n    </tr>\n  </tbody>\n</table>\n</div>"
          },
          "metadata": {}
        }
      ]
    },
    {
      "cell_type": "markdown",
      "source": "## III. Data preprocessing",
      "metadata": {
        "tags": [],
        "cell_id": "00011-1da8697d-5e6d-4d35-8724-f759825945d6",
        "deepnote_cell_type": "text-cell-h2"
      }
    },
    {
      "cell_type": "markdown",
      "source": "### III.1 Standardization",
      "metadata": {
        "tags": [],
        "cell_id": "00013-d772b9c5-aef3-4a87-898f-c8cc8162d2ee",
        "deepnote_cell_type": "text-cell-h3"
      }
    },
    {
      "cell_type": "markdown",
      "source": "To be able to achieve a APC, we have to use StandardScalar from scikit-learn so all our numeric variables are centered and normalized (following a gaussian law).",
      "metadata": {
        "tags": [],
        "cell_id": "00014-1ae8fbfc-731e-48aa-83b4-947297765d63",
        "deepnote_cell_type": "markdown"
      }
    },
    {
      "cell_type": "markdown",
      "source": "**Numeric columns**",
      "metadata": {
        "tags": [],
        "cell_id": "00014-1b56524f-6bf6-4a38-a6e2-83818f02f23a",
        "deepnote_cell_type": "markdown"
      }
    },
    {
      "cell_type": "code",
      "metadata": {
        "tags": [],
        "cell_id": "00015-39685fc5-6821-41f2-a45f-8f43f0770ff8",
        "deepnote_to_be_reexecuted": false,
        "source_hash": "eff27e4f",
        "execution_millis": 20,
        "execution_start": 1619175906454,
        "deepnote_cell_type": "code"
      },
      "source": "num_cols = df_copy.select_dtypes(include=['int64']).columns\nprint(num_cols)",
      "execution_count": 11,
      "outputs": [
        {
          "name": "stdout",
          "text": "Index(['CYL', 'PUISS', 'LONG', 'LARG', 'POIDS', 'V-MAX'], dtype='object')\n",
          "output_type": "stream"
        }
      ]
    },
    {
      "cell_type": "code",
      "metadata": {
        "tags": [],
        "cell_id": "00016-581f3a0c-a19d-469f-9c26-999c432c5155",
        "deepnote_to_be_reexecuted": false,
        "source_hash": "469cd6fa",
        "execution_millis": 1173,
        "execution_start": 1619175906456,
        "deepnote_cell_type": "code"
      },
      "source": "# Import StandarScalar class from scitkit-learn\nfrom sklearn.preprocessing import StandardScaler\n\n# Instanciation\nscalar = StandardScaler()\n\n# Transformation\ndf_copy[num_cols] = scalar.fit_transform(df_copy[num_cols])\nprint(df)",
      "execution_count": 12,
      "outputs": [
        {
          "name": "stdout",
          "text": "                  CYL  PUISS  LONG  LARG  POIDS  V-MAX\nModele                                                \nAlfasud TI       1350     79   393   161    870    165\nAudi 100         1588     85   468   177   1110    160\nSimca 1300       1294     68   424   168   1050    152\nCitroen GS Club  1222     59   412   161    930    151\nFiat 132         1585     98   439   164   1105    165\nLancia Beta      1297     82   429   169   1080    160\nPeugeot 504      1796     79   449   169   1160    154\nRenault 16 TL    1565     55   424   163   1010    140\nRenault 30       2664    128   452   173   1320    180\nToyota Corolla   1166     55   399   157    815    140\nAlfetta-1.66     1570    109   428   162   1060    175\nPrincess-1800    1798     82   445   172   1160    158\nDatsun-200L      1998    115   469   169   1370    160\nTaunus-2000      1993     98   438   170   1080    167\nRancho           1442     80   431   166   1129    144\nMazda-9295       1769     83   440   165   1095    165\nOpel-Rekord      1979    100   459   173   1120    173\nLada-1300        1294     68   404   161    955    140\n",
          "output_type": "stream"
        }
      ]
    },
    {
      "cell_type": "markdown",
      "source": "Let's check if our scaled numeric variables got a mean equal to 0 or close to 0.",
      "metadata": {
        "tags": [],
        "cell_id": "00017-922e7b53-f816-47ac-87ec-ebbee7d6a206",
        "deepnote_cell_type": "markdown"
      }
    },
    {
      "cell_type": "markdown",
      "source": "**Mean**",
      "metadata": {
        "tags": [],
        "cell_id": "00018-1ed5b078-b68e-4537-aea1-645213c28530",
        "deepnote_cell_type": "markdown"
      }
    },
    {
      "cell_type": "code",
      "metadata": {
        "tags": [],
        "cell_id": "00018-942a4e77-7a99-48cf-86da-2019f5b1f54b",
        "deepnote_to_be_reexecuted": false,
        "source_hash": "bfe30410",
        "execution_millis": 8,
        "execution_start": 1619175907642,
        "deepnote_cell_type": "code"
      },
      "source": "print(np.mean(df_copy[num_cols], axis=0))",
      "execution_count": 13,
      "outputs": [
        {
          "name": "stdout",
          "text": "CYL     -0.000\nPUISS   -0.000\nLONG     0.000\nLARG     0.000\nPOIDS    0.000\nV-MAX    0.000\ndtype: float64\n",
          "output_type": "stream"
        }
      ]
    },
    {
      "cell_type": "markdown",
      "source": "**Standard-deviation**",
      "metadata": {
        "tags": [],
        "cell_id": "00020-a33c7d08-5495-408c-8837-d5ba4407852f",
        "deepnote_cell_type": "markdown"
      }
    },
    {
      "cell_type": "code",
      "metadata": {
        "tags": [],
        "cell_id": "00021-01b0f0ef-5ca7-4f85-b035-292a3af043cd",
        "deepnote_to_be_reexecuted": false,
        "source_hash": "caa9d6a",
        "execution_millis": 7,
        "execution_start": 1619175907643,
        "deepnote_cell_type": "code"
      },
      "source": "print(np.std(df_copy[num_cols], ddof=0))",
      "execution_count": 14,
      "outputs": [
        {
          "name": "stdout",
          "text": "CYL     1.000\nPUISS   1.000\nLONG    1.000\nLARG    1.000\nPOIDS   1.000\nV-MAX   1.000\ndtype: float64\n",
          "output_type": "stream"
        }
      ]
    },
    {
      "cell_type": "markdown",
      "source": "### III.2 Dropping categorical features",
      "metadata": {
        "tags": [],
        "cell_id": "00022-9ce4a391-e543-4ff4-aad2-1037b711f0b8",
        "deepnote_cell_type": "text-cell-h3"
      }
    },
    {
      "cell_type": "markdown",
      "source": "Next step before we can start with the PCA, we have to drop our categorical features as they will not work with PCA.",
      "metadata": {
        "tags": [],
        "cell_id": "00023-5b11a36e-b08e-474e-a816-983530798f06",
        "deepnote_cell_type": "markdown"
      }
    },
    {
      "cell_type": "markdown",
      "source": "**Categorical variables**",
      "metadata": {
        "tags": [],
        "cell_id": "00024-d52c4b03-e96c-4d30-b233-a330de350ae0",
        "deepnote_cell_type": "markdown"
      }
    },
    {
      "cell_type": "code",
      "metadata": {
        "tags": [],
        "cell_id": "00025-bb33e0f6-3a20-4c60-afd9-cbcecd018051",
        "deepnote_to_be_reexecuted": false,
        "source_hash": "1916d5b8",
        "execution_millis": 6,
        "execution_start": 1619175907644,
        "deepnote_cell_type": "code"
      },
      "source": "cat_cols = df_copy.select_dtypes(include='object').columns\nprint(cat_cols)",
      "execution_count": 15,
      "outputs": [
        {
          "name": "stdout",
          "text": "Index([], dtype='object')\n",
          "output_type": "stream"
        }
      ]
    },
    {
      "cell_type": "markdown",
      "source": "## IV. PCA analyse with scikit-learn",
      "metadata": {
        "tags": [],
        "cell_id": "00027-459786bc-83e4-4359-b3fa-f61798c6347f",
        "deepnote_cell_type": "text-cell-h2"
      }
    },
    {
      "cell_type": "markdown",
      "source": "We start by getting the PCA class from scikit learn and show the properties.",
      "metadata": {
        "tags": [],
        "cell_id": "00028-47bdc5af-b8f5-4c25-9a8e-d8bd43a30271",
        "deepnote_cell_type": "markdown"
      }
    },
    {
      "cell_type": "code",
      "metadata": {
        "tags": [],
        "cell_id": "00029-62a45719-acc1-4a30-bbd7-f23b5e263717",
        "deepnote_to_be_reexecuted": false,
        "source_hash": "4e9c6ae7",
        "execution_millis": 219,
        "execution_start": 1619175907645,
        "deepnote_cell_type": "code"
      },
      "source": "# PCA class\nfrom sklearn.decomposition import PCA\n\n# Instanciation\nacp = PCA(svd_solver='full')\n\n# Print parameters\nprint(acp.get_params().keys())",
      "execution_count": 16,
      "outputs": [
        {
          "name": "stdout",
          "text": "dict_keys(['copy', 'iterated_power', 'n_components', 'random_state', 'svd_solver', 'tol', 'whiten'])\n",
          "output_type": "stream"
        }
      ]
    },
    {
      "cell_type": "code",
      "metadata": {
        "tags": [],
        "cell_id": "00031-e4e43f43-80b1-435c-a3d3-8be9ff881981",
        "deepnote_to_be_reexecuted": false,
        "source_hash": "9e5d9dcc",
        "execution_millis": 22,
        "execution_start": 1619175907842,
        "deepnote_cell_type": "code"
      },
      "source": "# Calculs\ncoord = acp.fit_transform(df_copy)\n\n# number of calculated components\nprint(acp.n_components_)",
      "execution_count": 17,
      "outputs": [
        {
          "name": "stdout",
          "text": "6\n",
          "output_type": "stream"
        }
      ]
    },
    {
      "cell_type": "markdown",
      "source": "### IV.1 Scree plot and values",
      "metadata": {
        "tags": [],
        "cell_id": "00031-9e348008-ed23-4df5-a8b0-f2d882362b8b",
        "deepnote_cell_type": "text-cell-h3"
      }
    },
    {
      "cell_type": "markdown",
      "source": "**.explained_variance_** property can be used to get the variance of the associed factorial axes.",
      "metadata": {
        "tags": [],
        "cell_id": "00032-e76527f4-10da-4b7a-b0a7-b7af219b21fc",
        "deepnote_cell_type": "markdown"
      }
    },
    {
      "cell_type": "code",
      "metadata": {
        "tags": [],
        "cell_id": "00032-41389a48-4b65-49ff-8599-8fce621bc222",
        "deepnote_to_be_reexecuted": false,
        "source_hash": "b8d3c8ef",
        "execution_millis": 21,
        "execution_start": 1619175907843,
        "deepnote_cell_type": "code"
      },
      "source": "# Explained variance\nprint(acp.explained_variance_)",
      "execution_count": 18,
      "outputs": [
        {
          "name": "stdout",
          "text": "[4.68090853 0.90641889 0.39501114 0.22650574 0.09826011 0.04583676]\n",
          "output_type": "stream"
        }
      ]
    },
    {
      "cell_type": "code",
      "metadata": {
        "tags": [],
        "cell_id": "00034-aefad1b5-6200-4a62-a69c-2e6cfcbfff4b",
        "deepnote_to_be_reexecuted": false,
        "source_hash": "8a20e6d0",
        "execution_millis": 20,
        "execution_start": 1619175907844,
        "deepnote_cell_type": "code"
      },
      "source": "# Valeur corrigé\neigval = (n-1)/n*acp.explained_variance_\nprint(eigval)",
      "execution_count": 19,
      "outputs": [
        {
          "name": "stdout",
          "text": "[4.42085806 0.85606229 0.37306608 0.21392209 0.09280121 0.04329027]\n",
          "output_type": "stream"
        }
      ]
    },
    {
      "cell_type": "markdown",
      "source": "We could have used directly .singular_values_ to find the correct values ",
      "metadata": {
        "tags": [],
        "cell_id": "00035-ed3a1ec0-1a80-40b1-8211-30b67e20da03",
        "deepnote_cell_type": "markdown"
      }
    },
    {
      "cell_type": "code",
      "metadata": {
        "tags": [],
        "cell_id": "00036-cf822c30-1d23-4234-8432-abc636375c3a",
        "deepnote_to_be_reexecuted": false,
        "source_hash": "a01b0ba5",
        "execution_millis": 21,
        "execution_start": 1619175907844,
        "deepnote_cell_type": "code"
      },
      "source": "print(acp.singular_values_**2/n)",
      "execution_count": 20,
      "outputs": [
        {
          "name": "stdout",
          "text": "[4.42085806 0.85606229 0.37306608 0.21392209 0.09280121 0.04329027]\n",
          "output_type": "stream"
        }
      ]
    },
    {
      "cell_type": "markdown",
      "source": "PCA also give us the possibility to get the explained variance ratio associate with the axes. NO need to correct the values in this case.",
      "metadata": {
        "tags": [],
        "cell_id": "00037-130ec682-4468-4cc5-84d9-e5d083efd438",
        "deepnote_cell_type": "markdown"
      }
    },
    {
      "cell_type": "code",
      "metadata": {
        "tags": [],
        "cell_id": "00038-c3e9af9f-6459-4c67-bce6-f8e64068382d",
        "deepnote_to_be_reexecuted": false,
        "source_hash": "192adfc1",
        "execution_millis": 20,
        "execution_start": 1619175907845,
        "deepnote_cell_type": "code"
      },
      "source": "print(acp.explained_variance_ratio_)",
      "execution_count": 21,
      "outputs": [
        {
          "name": "stdout",
          "text": "[0.73680968 0.14267705 0.06217768 0.03565368 0.01546687 0.00721505]\n",
          "output_type": "stream"
        }
      ]
    },
    {
      "cell_type": "markdown",
      "source": "**Scree plot**",
      "metadata": {
        "tags": [],
        "cell_id": "00039-ae467538-0898-46ce-9f32-c4847b0c661f",
        "deepnote_cell_type": "markdown"
      }
    },
    {
      "cell_type": "code",
      "metadata": {
        "tags": [],
        "cell_id": "00040-15f2f997-cde4-42fa-b7dc-dc5862e9035c",
        "deepnote_to_be_reexecuted": false,
        "source_hash": "88e6b9cc",
        "execution_millis": 0,
        "execution_start": 1619175907848,
        "deepnote_cell_type": "code"
      },
      "source": "p_copy = df_copy.shape[1]",
      "execution_count": 22,
      "outputs": []
    },
    {
      "cell_type": "code",
      "metadata": {
        "tags": [],
        "cell_id": "00040-53e06722-63a5-443d-95d0-b27c396c4056",
        "deepnote_to_be_reexecuted": false,
        "source_hash": "5dedf4ac",
        "execution_millis": 216,
        "execution_start": 1619175907848,
        "deepnote_cell_type": "code"
      },
      "source": "plt.plot(np.arange(1,p_copy+1),eigval)\nplt.title(\"Scree plot\")\nplt.ylabel(\"Eigen values\")\nplt.xlabel(\"Factor number\")\nplt.show()",
      "execution_count": 23,
      "outputs": [
        {
          "data": {
            "text/plain": "<Figure size 432x288 with 1 Axes>",
            "image/png": "[encoded data removed]"
          },
          "metadata": {
            "needs_background": "light"
          },
          "output_type": "display_data"
        }
      ]
    },
    {
      "cell_type": "markdown",
      "source": "The graph of the cumulative variance restored according to the number of factors can also be interesting.",
      "metadata": {
        "tags": [],
        "cell_id": "00042-c9a3f855-cecb-4136-8aca-356bf2174929",
        "deepnote_cell_type": "markdown"
      }
    },
    {
      "cell_type": "code",
      "metadata": {
        "tags": [],
        "cell_id": "00043-521b3cad-02dd-4679-bf1d-f756b0a0d7b2",
        "deepnote_to_be_reexecuted": false,
        "source_hash": "6cab208",
        "execution_millis": 136,
        "execution_start": 1619175908048,
        "deepnote_cell_type": "code"
      },
      "source": "plt.plot(np.arange(1,p_copy+1),np.cumsum(acp.explained_variance_ratio_))\nplt.plot(1, 0.74, 'bo') \nplt.plot(2, 0.88, 'bo')\nplt.plot(3, 0.942, 'bo')\nplt.plot(4, 0.978, 'bo')\nplt.plot(5, 0.994, 'bo')   \nplt.title(\"Explained variance vs. # of factors\")\nplt.ylabel(\"Cumsum explained varianceratio\")\nplt.xlabel(\"Factor number\")\nplt.show()",
      "execution_count": 24,
      "outputs": [
        {
          "data": {
            "text/plain": "<Figure size 432x288 with 1 Axes>",
            "image/png": "[encoded data removed]"
          },
          "metadata": {
            "needs_background": "light"
          },
          "output_type": "display_data"
        }
      ]
    },
    {
      "cell_type": "markdown",
      "source": "**Observations**\n\nThe *explained variance ratio* returns a vector of the variance explained by each dimension. So explained_variance_ratio_[i] gives the variance explained solely by the i+1st dimension. \n\n* We can deduce from this plot that, if we keep 2 factors (k=2, 2 dimensions), we will keep approximativly **88%** of the data that will explain an observation.\n* If we keep 3 factors, we will keep approximativly **95%** of the data that will explain an observation.\n",
      "metadata": {
        "tags": [],
        "cell_id": "00046-0159076d-1d05-43a2-9890-f47cebdd21a9",
        "deepnote_cell_type": "markdown"
      }
    },
    {
      "cell_type": "markdown",
      "source": "### IV. How to determinate the number of factors to keep",
      "metadata": {
        "tags": [],
        "cell_id": "00044-224fbf82-3af1-4cc7-88f8-6d5e45f2ae4b",
        "deepnote_cell_type": "markdown"
      }
    },
    {
      "cell_type": "markdown",
      "source": "The \"breaks\" in the charts above often mentioned (elbow rule) to identify the number of K * factors to keep. The solution (K * = 2) seems to prevail here.\nWe also could use the *\"broken sticks\"* test",
      "metadata": {
        "tags": [],
        "cell_id": "00044-3b7c4260-b743-49ca-9625-e7f71e59dc2a",
        "deepnote_cell_type": "markdown"
      }
    },
    {
      "cell_type": "code",
      "metadata": {
        "tags": [],
        "cell_id": "00046-2f0f5a96-befc-481f-8491-c9d1828f7552",
        "deepnote_to_be_reexecuted": false,
        "source_hash": "a2fb979c",
        "execution_millis": 6,
        "execution_start": 1619175908226,
        "deepnote_cell_type": "code"
      },
      "source": "# Threshold for the borken sticks test\nbs = 1/np.arange(p_copy,0,-1)\nbs = np.cumsum(bs)\nbs = bs[::-1]\n\n# Now let's print the values and threshold\nprint(pd.DataFrame({'Val.Propre':eigval, 'Seuils':bs}))",
      "execution_count": 25,
      "outputs": [
        {
          "name": "stdout",
          "text": "   Val.Propre  Seuils\n0       4.421   2.450\n1       0.856   1.450\n2       0.373   0.950\n3       0.214   0.617\n4       0.093   0.367\n5       0.043   0.167\n",
          "output_type": "stream"
        }
      ]
    },
    {
      "cell_type": "markdown",
      "source": "## V. Representation of all the observations - Interpretation tool",
      "metadata": {
        "tags": [],
        "cell_id": "00047-c1caa82b-4937-445e-86cf-52c0d8dd53e8",
        "deepnote_cell_type": "text-cell-h2"
      }
    },
    {
      "cell_type": "code",
      "metadata": {
        "tags": [],
        "cell_id": "00048-6e2aa344-9c8b-4b9f-aada-c02205a9b3b9",
        "deepnote_to_be_reexecuted": false,
        "source_hash": "976c5cd5",
        "execution_millis": 235,
        "execution_start": 1619175908227,
        "deepnote_cell_type": "code"
      },
      "source": "# positionning observations on the first plan\nfig, axes = plt.subplots(figsize=(10,10))\naxes.set_xlim(-6,6)\naxes.set_ylim(-6,6)\n\n# Placement of observation labels\nfor i in range(n):\n    plt.annotate(df_copy.index[i],(coord[i,0], coord[i,1]))\n\n# Add axes\nplt.plot([-6,6],[0,0],color='silver',linestyle='-',linewidth=1)\nplt.plot([0,0],[-6,6],color='silver',linestyle='-',linewidth=1)\n\nplt.xlabel('PC1')\nplt.ylabel('PC2')\n\n# Display\nplt.show()",
      "execution_count": 26,
      "outputs": [
        {
          "data": {
            "text/plain": "<Figure size 720x720 with 1 Axes>",
            "image/png": "[encoded data removed]"
          },
          "metadata": {
            "needs_background": "light"
          },
          "output_type": "display_data"
        }
      ]
    },
    {
      "cell_type": "markdown",
      "source": "**Interpretation**\n\nThe main question to ask here is : What differenciates an observation with a larger x (abscisse) to another with a lower x ?\nTo answer that question we actually have to interprete this plot with the correlation circle which will indicate us which features have a correlation or an anti-correlation with PC1 and PC2.\n\nBut as a first approch, we could say that for example, Ranault 30 and Toyota Corolla are two observations that are opposite to each other. ",
      "metadata": {
        "tags": [],
        "cell_id": "00052-c47d9a4e-86b9-48c3-9c0b-b67327a2253d",
        "deepnote_cell_type": "markdown"
      }
    },
    {
      "cell_type": "markdown",
      "source": "## VI. Quality of the representation - COS ² (Squared cosinus)",
      "metadata": {
        "tags": [],
        "cell_id": "00049-8908479f-a663-4e9c-aa13-682d26e99a45",
        "deepnote_cell_type": "text-cell-h2"
      }
    },
    {
      "cell_type": "markdown",
      "source": "To calculate the quality of observation representation on the axes, we have to start to calculate the square distance to the origine from each observations which is also the total inertia contribution.",
      "metadata": {
        "tags": [],
        "cell_id": "00050-c7935287-042d-4899-affb-e550ffcc3c24",
        "deepnote_cell_type": "markdown"
      }
    },
    {
      "cell_type": "code",
      "metadata": {
        "tags": [],
        "cell_id": "00051-e31287d0-b3da-4273-85ae-9443bd6fee80",
        "deepnote_to_be_reexecuted": false,
        "source_hash": "915a61c0",
        "execution_millis": 18,
        "execution_start": 1619175908481,
        "deepnote_cell_type": "code"
      },
      "source": "# contribution of the inviduals in the total inertia\ndi = np.sum(df_copy ** 2, axis=1)\nprint(pd.DataFrame({'d_i': di}))",
      "execution_count": 27,
      "outputs": [
        {
          "name": "stdout",
          "text": "                   d_i\nModele                \nAlfasud TI       8.225\nAudi 100         6.674\nSimca 1300       2.159\nCitroen GS Club  6.780\nFiat 132         1.169\nLancia Beta      1.135\nPeugeot 504      1.513\nRenault 16 TL    5.637\nRenault 30      21.790\nToyota Corolla  16.290\nAlfetta-1.66     4.457\nPrincess-1800    1.953\nDatsun-200L     11.113\nTaunus-2000      2.453\nRancho           1.963\nMazda-9295       0.685\nOpel-Rekord      6.083\nLada-1300        7.922\n",
          "output_type": "stream"
        }
      ]
    },
    {
      "cell_type": "code",
      "metadata": {
        "tags": [],
        "cell_id": "00052-ae9a26ae-7427-4bd6-b088-1a9b89b6ae35",
        "deepnote_to_be_reexecuted": false,
        "source_hash": "cd921ca4",
        "execution_millis": 17,
        "execution_start": 1619175908482,
        "deepnote_cell_type": "code"
      },
      "source": "# quality of the representation\ncos2 = coord ** 2\nfor j in range(p_copy):\n    cos2[:,j] = cos2[:,j]/di\n\nprint(pd.DataFrame({'ID': df_copy.index,'COS2_1': cos2[:,0], 'COS2_2': cos2[:,1]}))",
      "execution_count": 28,
      "outputs": [
        {
          "name": "stdout",
          "text": "                 ID  COS2_1  COS2_2\n0        Alfasud TI   0.556   0.388\n1          Audi 100   0.365   0.349\n2        Simca 1300   0.580   0.211\n3   Citroen GS Club   0.977   0.002\n4          Fiat 132   0.157   0.414\n5       Lancia Beta   0.082   0.034\n6       Peugeot 504   0.309   0.575\n7     Renault 16 TL   0.674   0.171\n8        Renault 30   0.892   0.052\n9    Toyota Corolla   0.975   0.003\n10     Alfetta-1.66   0.043   0.821\n11    Princess-1800   0.531   0.363\n12      Datsun-200L   0.778   0.028\n13      Taunus-2000   0.705   0.096\n14           Rancho   0.243   0.410\n15       Mazda-9295   0.217   0.185\n16      Opel-Rekord   0.862   0.002\n17        Lada-1300   0.926   0.003\n",
          "output_type": "stream"
        }
      ]
    },
    {
      "cell_type": "markdown",
      "source": "According to theory, for each individual, the sum of COS² over all the factors is equal to 1.",
      "metadata": {
        "tags": [],
        "cell_id": "00053-416212dd-db9f-4e6f-86bd-3a681c04fbae",
        "deepnote_cell_type": "markdown"
      }
    },
    {
      "cell_type": "code",
      "metadata": {
        "tags": [],
        "cell_id": "00054-9472543a-4040-4596-a18b-89f94d0fe96c",
        "deepnote_to_be_reexecuted": false,
        "source_hash": "9f89939e",
        "execution_millis": 18,
        "execution_start": 1619175908482,
        "deepnote_cell_type": "code"
      },
      "source": "# Checking if the théorie - sum of all the rows in cos2 = 1\nprint(np.sum(cos2, axis=1))",
      "execution_count": 29,
      "outputs": [
        {
          "name": "stdout",
          "text": "[1. 1. 1. 1. 1. 1. 1. 1. 1. 1. 1. 1. 1. 1. 1. 1. 1. 1.]\n",
          "output_type": "stream"
        }
      ]
    },
    {
      "cell_type": "markdown",
      "source": "## VII. Individuals contribution to the axes",
      "metadata": {
        "tags": [],
        "cell_id": "00055-6d6023ed-42ea-4a6c-afea-466ba75e6cfc",
        "deepnote_cell_type": "text-cell-h2"
      }
    },
    {
      "cell_type": "markdown",
      "source": "This will help us determinate which individual has more weight for each factors's definition ",
      "metadata": {
        "tags": [],
        "cell_id": "00056-b002cf58-45b9-44b9-8159-73372d0c79ef",
        "deepnote_cell_type": "markdown"
      }
    },
    {
      "cell_type": "code",
      "metadata": {
        "tags": [],
        "cell_id": "00056-a19f188e-2b58-4195-a1cd-5b810a127707",
        "deepnote_to_be_reexecuted": false,
        "source_hash": "dd1c7e5d",
        "execution_millis": 13,
        "execution_start": 1619175908489,
        "deepnote_cell_type": "code"
      },
      "source": "# Contribution to the axes\nctr = coord ** 2\nfor j in range(p_copy):\n    ctr[:,j] = ctr[:,j]/(n*eigval[j])\n\nprint(pd.DataFrame({'id': df_copy.index, 'CTR_1':ctr[:,0], 'CTR_2':ctr[:,1]}))",
      "execution_count": 30,
      "outputs": [
        {
          "name": "stdout",
          "text": "                 id  CTR_1  CTR_2\n0        Alfasud TI  0.057  0.207\n1          Audi 100  0.031  0.151\n2        Simca 1300  0.016  0.030\n3   Citroen GS Club  0.083  0.001\n4          Fiat 132  0.002  0.031\n5       Lancia Beta  0.001  0.002\n6       Peugeot 504  0.006  0.056\n7     Renault 16 TL  0.048  0.062\n8        Renault 30  0.244  0.073\n9    Toyota Corolla  0.200  0.004\n10     Alfetta-1.66  0.002  0.237\n11    Princess-1800  0.013  0.046\n12      Datsun-200L  0.109  0.020\n13      Taunus-2000  0.022  0.015\n14           Rancho  0.006  0.052\n15       Mazda-9295  0.002  0.008\n16      Opel-Rekord  0.066  0.001\n17        Lada-1300  0.092  0.001\n",
          "output_type": "stream"
        }
      ]
    },
    {
      "cell_type": "markdown",
      "source": "The ctr sum of all the rows should be equal to 1",
      "metadata": {
        "tags": [],
        "cell_id": "00058-bf153d6b-cbc2-4845-852e-13c321532b30",
        "deepnote_cell_type": "markdown"
      }
    },
    {
      "cell_type": "code",
      "metadata": {
        "tags": [],
        "cell_id": "00059-0a753abc-08e5-41be-a096-4f6adee0b496",
        "deepnote_to_be_reexecuted": false,
        "source_hash": "e2acfff3",
        "execution_millis": 7,
        "execution_start": 1619175908508,
        "deepnote_cell_type": "code"
      },
      "source": "print(np.sum(ctr, axis=0))",
      "execution_count": 31,
      "outputs": [
        {
          "name": "stdout",
          "text": "[1. 1. 1. 1. 1. 1.]\n",
          "output_type": "stream"
        }
      ]
    },
    {
      "cell_type": "markdown",
      "source": "## VIII. Features representation - Interpretation tools",
      "metadata": {
        "tags": [],
        "cell_id": "00060-2793a27f-baa4-46ed-bd61-d22573f846ff",
        "deepnote_cell_type": "text-cell-h2"
      }
    },
    {
      "cell_type": "markdown",
      "source": "We need vectors for the feature analysis, we can get them with method .components_.",
      "metadata": {
        "tags": [],
        "cell_id": "00061-f23665a0-c61f-498b-96fb-7c22853782d4",
        "deepnote_cell_type": "markdown"
      }
    },
    {
      "cell_type": "code",
      "metadata": {
        "tags": [],
        "cell_id": "00062-87eb2318-8da1-4c7d-ad94-66b9e29c6317",
        "deepnote_to_be_reexecuted": false,
        "source_hash": "24b6846e",
        "execution_millis": 6,
        "execution_start": 1619175908509,
        "deepnote_cell_type": "code"
      },
      "source": "# Field components of the ACP object\nprint(acp.components_)",
      "execution_count": 32,
      "outputs": [
        {
          "name": "stdout",
          "text": "[[ 0.42493602  0.42179441  0.42145993  0.38692224  0.43051198  0.35894427]\n [ 0.12419108  0.41577389 -0.41181773 -0.446087   -0.24267581  0.6198626 ]\n [-0.35361252 -0.18492049  0.06763394  0.60486812 -0.48439601  0.48547226]\n [ 0.80778648 -0.35779199 -0.27975231  0.21156941 -0.30171136 -0.0735743 ]\n [ 0.15158003 -0.29373465  0.73056903 -0.47819008 -0.30455842  0.18865511]\n [-0.05889517 -0.63303302 -0.19029153 -0.10956624  0.5808122   0.45852167]]\n",
          "output_type": "stream"
        }
      ]
    },
    {
      "cell_type": "code",
      "metadata": {
        "tags": [],
        "cell_id": "00063-10f8fa0b-ed25-4070-9738-1beb626bc683",
        "deepnote_to_be_reexecuted": false,
        "source_hash": "28e9a683",
        "execution_millis": 6,
        "execution_start": 1619175908509,
        "deepnote_cell_type": "code"
      },
      "source": "# Square root of eigval\nsqrt_eigval = np.sqrt(eigval)\n\n# correlation between features and axes\ncorvar = np.zeros((p_copy, p_copy))\n\nfor k in range(p_copy):\n    corvar[:,k] = acp.components_[k,:] * sqrt_eigval[k]\n\n# print the correlation matrix features x observations\nprint(corvar)",
      "execution_count": 33,
      "outputs": [
        {
          "name": "stdout",
          "text": "[[ 0.89346354  0.1149061  -0.21598347  0.37361508  0.04617627 -0.01225391]\n [ 0.88685803  0.38468911 -0.11294784 -0.16548492 -0.08948124 -0.13171084]\n [ 0.88615477 -0.38102873  0.04131023 -0.12939024  0.22255537 -0.03959265]\n [ 0.81353638 -0.4127359   0.36944822  0.09785447 -0.14567244 -0.0227967 ]\n [ 0.90518746 -0.22453248 -0.29586489 -0.13954667 -0.09277852  0.12084561]\n [ 0.75471037  0.57351941  0.29652226 -0.03402937  0.05747056  0.09540146]]\n",
          "output_type": "stream"
        }
      ]
    },
    {
      "cell_type": "code",
      "metadata": {
        "tags": [],
        "cell_id": "00064-061ed13f-f0b5-4873-a924-89a1fcd0f48d",
        "deepnote_to_be_reexecuted": false,
        "source_hash": "640f188e",
        "execution_millis": 13,
        "execution_start": 1619175908512,
        "deepnote_cell_type": "code"
      },
      "source": "# We print the 2 first axes\nprint(pd.DataFrame({'id':df_copy.columns,'COR_1':corvar[:,0],'COR_2':corvar[:,1]}))",
      "execution_count": 34,
      "outputs": [
        {
          "name": "stdout",
          "text": "      id  COR_1  COR_2\n0    CYL  0.893  0.115\n1  PUISS  0.887  0.385\n2   LONG  0.886 -0.381\n3   LARG  0.814 -0.413\n4  POIDS  0.905 -0.225\n5  V-MAX  0.755  0.574\n",
          "output_type": "stream"
        }
      ]
    },
    {
      "cell_type": "markdown",
      "source": "Let's now plot the correlation circle",
      "metadata": {
        "tags": [],
        "cell_id": "00065-c31ab384-a6f7-4d23-a734-810adbff9a7e",
        "deepnote_cell_type": "markdown"
      }
    },
    {
      "cell_type": "code",
      "metadata": {
        "tags": [],
        "cell_id": "00066-9496de5e-a243-4f4a-8d01-2dbe1a65b1db",
        "deepnote_to_be_reexecuted": false,
        "source_hash": "4cc533a0",
        "execution_millis": 166,
        "execution_start": 1619175908567,
        "deepnote_cell_type": "code"
      },
      "source": "# circle of corrélations\nfig, axes = plt.subplots(figsize=(8,8))\naxes.set_xlim(-1,1)\naxes.set_ylim(-1,1)\n# print labels \nfor j in range(p_copy):\n    plt.annotate(df_copy.columns[j],(corvar[j,0],corvar[j,1]))\n# add axes\nplt.plot([-1,1],[0,0],color='silver',linestyle='-',linewidth=1)\nplt.plot([0,0],[-1,1],color='silver',linestyle='-',linewidth=1)\n\n# add the circle\ncircle = plt.Circle((0,0),1,color='blue',fill=False)\naxes.add_artist(circle)\n\nplt.show()",
      "execution_count": 35,
      "outputs": [
        {
          "data": {
            "text/plain": "<Figure size 576x576 with 1 Axes>",
            "image/png": "[encoded data removed]"
          },
          "metadata": {
            "needs_background": "light"
          },
          "output_type": "display_data"
        }
      ]
    },
    {
      "cell_type": "markdown",
      "source": "**Interpretation**\n\nNow that we have the correlation circle, we can see that PC1 is highly correlated with V-MAX, PUISS, CYL, POIDS, LONG and LARG. \nFrom this observation, going in the increasing direction of PC1 (left to right), observations have an higher chance to get a bigger value for PC1.\n\nSo at the end, walking along the PC1 axis in the right direction is like identifying faster cars, bigger cars with a big cylinder and lot of horse power.\n\nLet's describe an outlying observation like the *Renault 30* :\n* High Cylinder value\n* Fast car (high value of horse power)\n* High value for V-MAX\n* Pretty heavy car\n* Pretty long and large\n\nWe don't have the price here but we could guess it's an expansive car as well.\n\nLet's now describe an other outlying observation but symmetrically opposite, the *Toyota Corolla* :\n* Low Cylinder value\n* Slow car (Low value of horse power)\n* Low value for V-MAX\n* Lightweight car\n* Pretty small car\n\nWith those informations, we could guess that this car is affordable by most of the population (low price).\n",
      "metadata": {
        "tags": [],
        "cell_id": "00071-a650d1d4-812d-422a-8eb6-2d573daa68d3",
        "deepnote_cell_type": "markdown"
      }
    },
    {
      "cell_type": "markdown",
      "source": "**Quality of the features representation (COS²)**",
      "metadata": {
        "tags": [],
        "cell_id": "00067-14b33c2f-c625-48af-b220-de749b8ff642",
        "deepnote_cell_type": "markdown"
      }
    },
    {
      "cell_type": "code",
      "metadata": {
        "tags": [],
        "cell_id": "00068-2876b8f7-c4d5-44c8-9e88-a74e0e8ed4f3",
        "deepnote_to_be_reexecuted": false,
        "source_hash": "e942642a",
        "execution_millis": 14,
        "execution_start": 1619175908727,
        "deepnote_cell_type": "code"
      },
      "source": "# squared cosinus of the features\ncos2var = corvar ** 2\nprint(pd.DataFrame({'id':df_copy.columns,'COS2_1':cos2var[:,0],'COS2_2':cos2var[:,1]}))",
      "execution_count": 36,
      "outputs": [
        {
          "name": "stdout",
          "text": "      id  COS2_1  COS2_2\n0    CYL   0.798   0.013\n1  PUISS   0.787   0.148\n2   LONG   0.785   0.145\n3   LARG   0.662   0.170\n4  POIDS   0.819   0.050\n5  V-MAX   0.570   0.329\n",
          "output_type": "stream"
        }
      ]
    },
    {
      "cell_type": "markdown",
      "source": "**Contribution of the features to the axes**",
      "metadata": {
        "tags": [],
        "cell_id": "00069-6942ff8f-8389-4b5b-8652-cc6396416248",
        "deepnote_cell_type": "markdown"
      }
    },
    {
      "cell_type": "code",
      "metadata": {
        "tags": [],
        "cell_id": "00070-99ee22bd-42e3-48d1-904c-c99db152a4bc",
        "deepnote_to_be_reexecuted": false,
        "source_hash": "1b9d5031",
        "execution_millis": 21,
        "execution_start": 1619175908730,
        "deepnote_cell_type": "code"
      },
      "source": "# contributiion\nctrvar = cos2var\n\nfor k in range(p_copy):\n    ctrvar[:,k] = ctrvar[:,k]/eigval[k]\n\n# We print only the 2 first axes\nprint(pd.DataFrame({'id':df_copy.columns,'CTR_1':ctrvar[:,0],'CTR_2':ctrvar[:,1]}))",
      "execution_count": 37,
      "outputs": [
        {
          "name": "stdout",
          "text": "      id  CTR_1  CTR_2\n0    CYL  0.181  0.015\n1  PUISS  0.178  0.173\n2   LONG  0.178  0.170\n3   LARG  0.150  0.199\n4  POIDS  0.185  0.059\n5  V-MAX  0.129  0.384\n",
          "output_type": "stream"
        }
      ]
    },
    {
      "cell_type": "markdown",
      "source": "## IX. Illustrative observations and features processing (Optional)",
      "metadata": {
        "tags": [],
        "cell_id": "00071-1b48cc21-efbc-49df-a3cb-65c061df877c",
        "deepnote_cell_type": "text-cell-h2"
      }
    },
    {
      "cell_type": "code",
      "metadata": {
        "tags": [],
        "cell_id": "00072-5ecb546a-cf1d-4221-ae3d-a7526b85766d",
        "deepnote_to_be_reexecuted": false,
        "source_hash": "af0cb096",
        "execution_millis": 3,
        "execution_start": 1619175908738,
        "deepnote_cell_type": "code"
      },
      "source": "new_observations = [\n    {\n        'Modele': 'Peugeot 604',\n        'CYL' : 2664,\n        'PUISS': 136,\n        'LONG' : 472,\n        'LARG': 177,\n        'POIDS': 1410,\n        'V-MAX': 180\n    },\n    {\n        'Modele': 'Peugeot 304 S',\n        'CYL' : 1288,\n        'PUISS': 74,\n        'LONG' : 157,\n        'LARG': 157,\n        'POIDS': 915,\n        'V-MAX': 160\n    }\n]\n\nnew_observations_df = pd.DataFrame(new_observations)\nnew_observations_df = new_observations_df.set_index('Modele')",
      "execution_count": 38,
      "outputs": []
    },
    {
      "cell_type": "code",
      "metadata": {
        "tags": [],
        "cell_id": "00075-e9ac228a-d54f-4ed0-9e61-4213e25ec280",
        "deepnote_to_be_reexecuted": false,
        "source_hash": "b3fdd680",
        "execution_millis": 23,
        "execution_start": 1619175908744,
        "deepnote_cell_type": "code"
      },
      "source": "new_observations_df.head()",
      "execution_count": 39,
      "outputs": [
        {
          "output_type": "execute_result",
          "execution_count": 39,
          "data": {
            "application/vnd.deepnote.dataframe.v2+json": {
              "row_count": 2,
              "column_count": 6,
              "columns": [
                {
                  "name": "CYL",
                  "dtype": "int64",
                  "stats": {
                    "unique_count": 2,
                    "nan_count": 0,
                    "min": "1288",
                    "max": "2664",
                    "histogram": [
                      {
                        "bin_start": 1288,
                        "bin_end": 1425.6,
                        "count": 1
                      },
                      {
                        "bin_start": 1425.6,
                        "bin_end": 1563.2,
                        "count": 0
                      },
                      {
                        "bin_start": 1563.2,
                        "bin_end": 1700.8,
                        "count": 0
                      },
                      {
                        "bin_start": 1700.8,
                        "bin_end": 1838.4,
                        "count": 0
                      },
                      {
                        "bin_start": 1838.4,
                        "bin_end": 1976,
                        "count": 0
                      },
                      {
                        "bin_start": 1976,
                        "bin_end": 2113.6,
                        "count": 0
                      },
                      {
                        "bin_start": 2113.6,
                        "bin_end": 2251.2,
                        "count": 0
                      },
                      {
                        "bin_start": 2251.2,
                        "bin_end": 2388.8,
                        "count": 0
                      },
                      {
                        "bin_start": 2388.8,
                        "bin_end": 2526.3999999999996,
                        "count": 0
                      },
                      {
                        "bin_start": 2526.3999999999996,
                        "bin_end": 2664,
                        "count": 1
                      }
                    ]
                  }
                },
                {
                  "name": "PUISS",
                  "dtype": "int64",
                  "stats": {
                    "unique_count": 2,
                    "nan_count": 0,
                    "min": "74",
                    "max": "136",
                    "histogram": [
                      {
                        "bin_start": 74,
                        "bin_end": 80.2,
                        "count": 1
                      },
                      {
                        "bin_start": 80.2,
                        "bin_end": 86.4,
                        "count": 0
                      },
                      {
                        "bin_start": 86.4,
                        "bin_end": 92.6,
                        "count": 0
                      },
                      {
                        "bin_start": 92.6,
                        "bin_end": 98.8,
                        "count": 0
                      },
                      {
                        "bin_start": 98.8,
                        "bin_end": 105,
                        "count": 0
                      },
                      {
                        "bin_start": 105,
                        "bin_end": 111.2,
                        "count": 0
                      },
                      {
                        "bin_start": 111.2,
                        "bin_end": 117.4,
                        "count": 0
                      },
                      {
                        "bin_start": 117.4,
                        "bin_end": 123.6,
                        "count": 0
                      },
                      {
                        "bin_start": 123.6,
                        "bin_end": 129.8,
                        "count": 0
                      },
                      {
                        "bin_start": 129.8,
                        "bin_end": 136,
                        "count": 1
                      }
                    ]
                  }
                },
                {
                  "name": "LONG",
                  "dtype": "int64",
                  "stats": {
                    "unique_count": 2,
                    "nan_count": 0,
                    "min": "157",
                    "max": "472",
                    "histogram": [
                      {
                        "bin_start": 157,
                        "bin_end": 188.5,
                        "count": 1
                      },
                      {
                        "bin_start": 188.5,
                        "bin_end": 220,
                        "count": 0
                      },
                      {
                        "bin_start": 220,
                        "bin_end": 251.5,
                        "count": 0
                      },
                      {
                        "bin_start": 251.5,
                        "bin_end": 283,
                        "count": 0
                      },
                      {
                        "bin_start": 283,
                        "bin_end": 314.5,
                        "count": 0
                      },
                      {
                        "bin_start": 314.5,
                        "bin_end": 346,
                        "count": 0
                      },
                      {
                        "bin_start": 346,
                        "bin_end": 377.5,
                        "count": 0
                      },
                      {
                        "bin_start": 377.5,
                        "bin_end": 409,
                        "count": 0
                      },
                      {
                        "bin_start": 409,
                        "bin_end": 440.5,
                        "count": 0
                      },
                      {
                        "bin_start": 440.5,
                        "bin_end": 472,
                        "count": 1
                      }
                    ]
                  }
                },
                {
                  "name": "LARG",
                  "dtype": "int64",
                  "stats": {
                    "unique_count": 2,
                    "nan_count": 0,
                    "min": "157",
                    "max": "177",
                    "histogram": [
                      {
                        "bin_start": 157,
                        "bin_end": 159,
                        "count": 1
                      },
                      {
                        "bin_start": 159,
                        "bin_end": 161,
                        "count": 0
                      },
                      {
                        "bin_start": 161,
                        "bin_end": 163,
                        "count": 0
                      },
                      {
                        "bin_start": 163,
                        "bin_end": 165,
                        "count": 0
                      },
                      {
                        "bin_start": 165,
                        "bin_end": 167,
                        "count": 0
                      },
                      {
                        "bin_start": 167,
                        "bin_end": 169,
                        "count": 0
                      },
                      {
                        "bin_start": 169,
                        "bin_end": 171,
                        "count": 0
                      },
                      {
                        "bin_start": 171,
                        "bin_end": 173,
                        "count": 0
                      },
                      {
                        "bin_start": 173,
                        "bin_end": 175,
                        "count": 0
                      },
                      {
                        "bin_start": 175,
                        "bin_end": 177,
                        "count": 1
                      }
                    ]
                  }
                },
                {
                  "name": "POIDS",
                  "dtype": "int64",
                  "stats": {
                    "unique_count": 2,
                    "nan_count": 0,
                    "min": "915",
                    "max": "1410",
                    "histogram": [
                      {
                        "bin_start": 915,
                        "bin_end": 964.5,
                        "count": 1
                      },
                      {
                        "bin_start": 964.5,
                        "bin_end": 1014,
                        "count": 0
                      },
                      {
                        "bin_start": 1014,
                        "bin_end": 1063.5,
                        "count": 0
                      },
                      {
                        "bin_start": 1063.5,
                        "bin_end": 1113,
                        "count": 0
                      },
                      {
                        "bin_start": 1113,
                        "bin_end": 1162.5,
                        "count": 0
                      },
                      {
                        "bin_start": 1162.5,
                        "bin_end": 1212,
                        "count": 0
                      },
                      {
                        "bin_start": 1212,
                        "bin_end": 1261.5,
                        "count": 0
                      },
                      {
                        "bin_start": 1261.5,
                        "bin_end": 1311,
                        "count": 0
                      },
                      {
                        "bin_start": 1311,
                        "bin_end": 1360.5,
                        "count": 0
                      },
                      {
                        "bin_start": 1360.5,
                        "bin_end": 1410,
                        "count": 1
                      }
                    ]
                  }
                },
                {
                  "name": "V-MAX",
                  "dtype": "int64",
                  "stats": {
                    "unique_count": 2,
                    "nan_count": 0,
                    "min": "160",
                    "max": "180",
                    "histogram": [
                      {
                        "bin_start": 160,
                        "bin_end": 162,
                        "count": 1
                      },
                      {
                        "bin_start": 162,
                        "bin_end": 164,
                        "count": 0
                      },
                      {
                        "bin_start": 164,
                        "bin_end": 166,
                        "count": 0
                      },
                      {
                        "bin_start": 166,
                        "bin_end": 168,
                        "count": 0
                      },
                      {
                        "bin_start": 168,
                        "bin_end": 170,
                        "count": 0
                      },
                      {
                        "bin_start": 170,
                        "bin_end": 172,
                        "count": 0
                      },
                      {
                        "bin_start": 172,
                        "bin_end": 174,
                        "count": 0
                      },
                      {
                        "bin_start": 174,
                        "bin_end": 176,
                        "count": 0
                      },
                      {
                        "bin_start": 176,
                        "bin_end": 178,
                        "count": 0
                      },
                      {
                        "bin_start": 178,
                        "bin_end": 180,
                        "count": 1
                      }
                    ]
                  }
                },
                {
                  "name": "_deepnote_index_column",
                  "dtype": "object"
                }
              ],
              "rows_top": [
                {
                  "CYL": 2664,
                  "PUISS": 136,
                  "LONG": 472,
                  "LARG": 177,
                  "POIDS": 1410,
                  "V-MAX": 180,
                  "_deepnote_index_column": "Peugeot 604"
                },
                {
                  "CYL": 1288,
                  "PUISS": 74,
                  "LONG": 157,
                  "LARG": 157,
                  "POIDS": 915,
                  "V-MAX": 160,
                  "_deepnote_index_column": "Peugeot 304 S"
                }
              ],
              "rows_bottom": null
            },
            "text/plain": "                CYL  PUISS  LONG  LARG  POIDS  V-MAX\nModele                                              \nPeugeot 604    2664    136   472   177   1410    180\nPeugeot 304 S  1288     74   157   157    915    160",
            "text/html": "<div>\n<style scoped>\n    .dataframe tbody tr th:only-of-type {\n        vertical-align: middle;\n    }\n\n    .dataframe tbody tr th {\n        vertical-align: top;\n    }\n\n    .dataframe thead th {\n        text-align: right;\n    }\n</style>\n<table border=\"1\" class=\"dataframe\">\n  <thead>\n    <tr style=\"text-align: right;\">\n      <th></th>\n      <th>CYL</th>\n      <th>PUISS</th>\n      <th>LONG</th>\n      <th>LARG</th>\n      <th>POIDS</th>\n      <th>V-MAX</th>\n    </tr>\n    <tr>\n      <th>Modele</th>\n      <th></th>\n      <th></th>\n      <th></th>\n      <th></th>\n      <th></th>\n      <th></th>\n    </tr>\n  </thead>\n  <tbody>\n    <tr>\n      <th>Peugeot 604</th>\n      <td>2664</td>\n      <td>136</td>\n      <td>472</td>\n      <td>177</td>\n      <td>1410</td>\n      <td>180</td>\n    </tr>\n    <tr>\n      <th>Peugeot 304 S</th>\n      <td>1288</td>\n      <td>74</td>\n      <td>157</td>\n      <td>157</td>\n      <td>915</td>\n      <td>160</td>\n    </tr>\n  </tbody>\n</table>\n</div>"
          },
          "metadata": {}
        }
      ]
    },
    {
      "cell_type": "code",
      "metadata": {
        "tags": [],
        "cell_id": "00073-49d70040-9ffc-4087-ac57-eb3f4ca08e3e",
        "deepnote_to_be_reexecuted": false,
        "source_hash": "490ad241",
        "execution_millis": 3,
        "execution_start": 1619175908764,
        "deepnote_cell_type": "code"
      },
      "source": "df2 = pd.concat([df, new_observations_df])",
      "execution_count": 40,
      "outputs": []
    },
    {
      "cell_type": "code",
      "metadata": {
        "tags": [],
        "cell_id": "00076-f932049c-73dc-494a-82fb-a7f25dc8a8e2",
        "deepnote_to_be_reexecuted": false,
        "source_hash": "14871a97",
        "execution_millis": 28,
        "execution_start": 1619175908769,
        "deepnote_cell_type": "code"
      },
      "source": "df2.head(30)",
      "execution_count": 41,
      "outputs": [
        {
          "output_type": "execute_result",
          "execution_count": 41,
          "data": {
            "application/vnd.deepnote.dataframe.v2+json": {
              "row_count": 20,
              "column_count": 6,
              "columns": [
                {
                  "name": "CYL",
                  "dtype": "int64",
                  "stats": {
                    "unique_count": 18,
                    "nan_count": 0,
                    "min": "1166",
                    "max": "2664",
                    "histogram": [
                      {
                        "bin_start": 1166,
                        "bin_end": 1315.8,
                        "count": 6
                      },
                      {
                        "bin_start": 1315.8,
                        "bin_end": 1465.6,
                        "count": 2
                      },
                      {
                        "bin_start": 1465.6,
                        "bin_end": 1615.4,
                        "count": 4
                      },
                      {
                        "bin_start": 1615.4,
                        "bin_end": 1765.2,
                        "count": 0
                      },
                      {
                        "bin_start": 1765.2,
                        "bin_end": 1915,
                        "count": 3
                      },
                      {
                        "bin_start": 1915,
                        "bin_end": 2064.8,
                        "count": 3
                      },
                      {
                        "bin_start": 2064.8,
                        "bin_end": 2214.6000000000004,
                        "count": 0
                      },
                      {
                        "bin_start": 2214.6000000000004,
                        "bin_end": 2364.4,
                        "count": 0
                      },
                      {
                        "bin_start": 2364.4,
                        "bin_end": 2514.2,
                        "count": 0
                      },
                      {
                        "bin_start": 2514.2,
                        "bin_end": 2664,
                        "count": 2
                      }
                    ]
                  }
                },
                {
                  "name": "PUISS",
                  "dtype": "int64",
                  "stats": {
                    "unique_count": 15,
                    "nan_count": 0,
                    "min": "55",
                    "max": "136",
                    "histogram": [
                      {
                        "bin_start": 55,
                        "bin_end": 63.1,
                        "count": 3
                      },
                      {
                        "bin_start": 63.1,
                        "bin_end": 71.2,
                        "count": 2
                      },
                      {
                        "bin_start": 71.2,
                        "bin_end": 79.3,
                        "count": 3
                      },
                      {
                        "bin_start": 79.3,
                        "bin_end": 87.4,
                        "count": 5
                      },
                      {
                        "bin_start": 87.4,
                        "bin_end": 95.5,
                        "count": 0
                      },
                      {
                        "bin_start": 95.5,
                        "bin_end": 103.6,
                        "count": 3
                      },
                      {
                        "bin_start": 103.6,
                        "bin_end": 111.69999999999999,
                        "count": 1
                      },
                      {
                        "bin_start": 111.69999999999999,
                        "bin_end": 119.8,
                        "count": 1
                      },
                      {
                        "bin_start": 119.8,
                        "bin_end": 127.89999999999999,
                        "count": 0
                      },
                      {
                        "bin_start": 127.89999999999999,
                        "bin_end": 136,
                        "count": 2
                      }
                    ]
                  }
                },
                {
                  "name": "LONG",
                  "dtype": "int64",
                  "stats": {
                    "unique_count": 19,
                    "nan_count": 0,
                    "min": "157",
                    "max": "472",
                    "histogram": [
                      {
                        "bin_start": 157,
                        "bin_end": 188.5,
                        "count": 1
                      },
                      {
                        "bin_start": 188.5,
                        "bin_end": 220,
                        "count": 0
                      },
                      {
                        "bin_start": 220,
                        "bin_end": 251.5,
                        "count": 0
                      },
                      {
                        "bin_start": 251.5,
                        "bin_end": 283,
                        "count": 0
                      },
                      {
                        "bin_start": 283,
                        "bin_end": 314.5,
                        "count": 0
                      },
                      {
                        "bin_start": 314.5,
                        "bin_end": 346,
                        "count": 0
                      },
                      {
                        "bin_start": 346,
                        "bin_end": 377.5,
                        "count": 0
                      },
                      {
                        "bin_start": 377.5,
                        "bin_end": 409,
                        "count": 3
                      },
                      {
                        "bin_start": 409,
                        "bin_end": 440.5,
                        "count": 9
                      },
                      {
                        "bin_start": 440.5,
                        "bin_end": 472,
                        "count": 7
                      }
                    ]
                  }
                },
                {
                  "name": "LARG",
                  "dtype": "int64",
                  "stats": {
                    "unique_count": 13,
                    "nan_count": 0,
                    "min": "157",
                    "max": "177",
                    "histogram": [
                      {
                        "bin_start": 157,
                        "bin_end": 159,
                        "count": 2
                      },
                      {
                        "bin_start": 159,
                        "bin_end": 161,
                        "count": 0
                      },
                      {
                        "bin_start": 161,
                        "bin_end": 163,
                        "count": 4
                      },
                      {
                        "bin_start": 163,
                        "bin_end": 165,
                        "count": 2
                      },
                      {
                        "bin_start": 165,
                        "bin_end": 167,
                        "count": 2
                      },
                      {
                        "bin_start": 167,
                        "bin_end": 169,
                        "count": 1
                      },
                      {
                        "bin_start": 169,
                        "bin_end": 171,
                        "count": 4
                      },
                      {
                        "bin_start": 171,
                        "bin_end": 173,
                        "count": 1
                      },
                      {
                        "bin_start": 173,
                        "bin_end": 175,
                        "count": 2
                      },
                      {
                        "bin_start": 175,
                        "bin_end": 177,
                        "count": 2
                      }
                    ]
                  }
                },
                {
                  "name": "POIDS",
                  "dtype": "int64",
                  "stats": {
                    "unique_count": 18,
                    "nan_count": 0,
                    "min": "815",
                    "max": "1410",
                    "histogram": [
                      {
                        "bin_start": 815,
                        "bin_end": 874.5,
                        "count": 2
                      },
                      {
                        "bin_start": 874.5,
                        "bin_end": 934,
                        "count": 2
                      },
                      {
                        "bin_start": 934,
                        "bin_end": 993.5,
                        "count": 1
                      },
                      {
                        "bin_start": 993.5,
                        "bin_end": 1053,
                        "count": 2
                      },
                      {
                        "bin_start": 1053,
                        "bin_end": 1112.5,
                        "count": 6
                      },
                      {
                        "bin_start": 1112.5,
                        "bin_end": 1172,
                        "count": 4
                      },
                      {
                        "bin_start": 1172,
                        "bin_end": 1231.5,
                        "count": 0
                      },
                      {
                        "bin_start": 1231.5,
                        "bin_end": 1291,
                        "count": 0
                      },
                      {
                        "bin_start": 1291,
                        "bin_end": 1350.5,
                        "count": 1
                      },
                      {
                        "bin_start": 1350.5,
                        "bin_end": 1410,
                        "count": 2
                      }
                    ]
                  }
                },
                {
                  "name": "V-MAX",
                  "dtype": "int64",
                  "stats": {
                    "unique_count": 12,
                    "nan_count": 0,
                    "min": "140",
                    "max": "180",
                    "histogram": [
                      {
                        "bin_start": 140,
                        "bin_end": 144,
                        "count": 3
                      },
                      {
                        "bin_start": 144,
                        "bin_end": 148,
                        "count": 1
                      },
                      {
                        "bin_start": 148,
                        "bin_end": 152,
                        "count": 1
                      },
                      {
                        "bin_start": 152,
                        "bin_end": 156,
                        "count": 2
                      },
                      {
                        "bin_start": 156,
                        "bin_end": 160,
                        "count": 1
                      },
                      {
                        "bin_start": 160,
                        "bin_end": 164,
                        "count": 4
                      },
                      {
                        "bin_start": 164,
                        "bin_end": 168,
                        "count": 4
                      },
                      {
                        "bin_start": 168,
                        "bin_end": 172,
                        "count": 0
                      },
                      {
                        "bin_start": 172,
                        "bin_end": 176,
                        "count": 2
                      },
                      {
                        "bin_start": 176,
                        "bin_end": 180,
                        "count": 2
                      }
                    ]
                  }
                },
                {
                  "name": "_deepnote_index_column",
                  "dtype": "object"
                }
              ],
              "rows_top": [
                {
                  "CYL": 1350,
                  "PUISS": 79,
                  "LONG": 393,
                  "LARG": 161,
                  "POIDS": 870,
                  "V-MAX": 165,
                  "_deepnote_index_column": "Alfasud TI"
                },
                {
                  "CYL": 1588,
                  "PUISS": 85,
                  "LONG": 468,
                  "LARG": 177,
                  "POIDS": 1110,
                  "V-MAX": 160,
                  "_deepnote_index_column": "Audi 100"
                },
                {
                  "CYL": 1294,
                  "PUISS": 68,
                  "LONG": 424,
                  "LARG": 168,
                  "POIDS": 1050,
                  "V-MAX": 152,
                  "_deepnote_index_column": "Simca 1300"
                },
                {
                  "CYL": 1222,
                  "PUISS": 59,
                  "LONG": 412,
                  "LARG": 161,
                  "POIDS": 930,
                  "V-MAX": 151,
                  "_deepnote_index_column": "Citroen GS Club"
                },
                {
                  "CYL": 1585,
                  "PUISS": 98,
                  "LONG": 439,
                  "LARG": 164,
                  "POIDS": 1105,
                  "V-MAX": 165,
                  "_deepnote_index_column": "Fiat 132"
                },
                {
                  "CYL": 1297,
                  "PUISS": 82,
                  "LONG": 429,
                  "LARG": 169,
                  "POIDS": 1080,
                  "V-MAX": 160,
                  "_deepnote_index_column": "Lancia Beta"
                },
                {
                  "CYL": 1796,
                  "PUISS": 79,
                  "LONG": 449,
                  "LARG": 169,
                  "POIDS": 1160,
                  "V-MAX": 154,
                  "_deepnote_index_column": "Peugeot 504"
                },
                {
                  "CYL": 1565,
                  "PUISS": 55,
                  "LONG": 424,
                  "LARG": 163,
                  "POIDS": 1010,
                  "V-MAX": 140,
                  "_deepnote_index_column": "Renault 16 TL"
                },
                {
                  "CYL": 2664,
                  "PUISS": 128,
                  "LONG": 452,
                  "LARG": 173,
                  "POIDS": 1320,
                  "V-MAX": 180,
                  "_deepnote_index_column": "Renault 30"
                },
                {
                  "CYL": 1166,
                  "PUISS": 55,
                  "LONG": 399,
                  "LARG": 157,
                  "POIDS": 815,
                  "V-MAX": 140,
                  "_deepnote_index_column": "Toyota Corolla"
                },
                {
                  "CYL": 1570,
                  "PUISS": 109,
                  "LONG": 428,
                  "LARG": 162,
                  "POIDS": 1060,
                  "V-MAX": 175,
                  "_deepnote_index_column": "Alfetta-1.66"
                },
                {
                  "CYL": 1798,
                  "PUISS": 82,
                  "LONG": 445,
                  "LARG": 172,
                  "POIDS": 1160,
                  "V-MAX": 158,
                  "_deepnote_index_column": "Princess-1800"
                },
                {
                  "CYL": 1998,
                  "PUISS": 115,
                  "LONG": 469,
                  "LARG": 169,
                  "POIDS": 1370,
                  "V-MAX": 160,
                  "_deepnote_index_column": "Datsun-200L"
                },
                {
                  "CYL": 1993,
                  "PUISS": 98,
                  "LONG": 438,
                  "LARG": 170,
                  "POIDS": 1080,
                  "V-MAX": 167,
                  "_deepnote_index_column": "Taunus-2000"
                },
                {
                  "CYL": 1442,
                  "PUISS": 80,
                  "LONG": 431,
                  "LARG": 166,
                  "POIDS": 1129,
                  "V-MAX": 144,
                  "_deepnote_index_column": "Rancho"
                },
                {
                  "CYL": 1769,
                  "PUISS": 83,
                  "LONG": 440,
                  "LARG": 165,
                  "POIDS": 1095,
                  "V-MAX": 165,
                  "_deepnote_index_column": "Mazda-9295"
                },
                {
                  "CYL": 1979,
                  "PUISS": 100,
                  "LONG": 459,
                  "LARG": 173,
                  "POIDS": 1120,
                  "V-MAX": 173,
                  "_deepnote_index_column": "Opel-Rekord"
                },
                {
                  "CYL": 1294,
                  "PUISS": 68,
                  "LONG": 404,
                  "LARG": 161,
                  "POIDS": 955,
                  "V-MAX": 140,
                  "_deepnote_index_column": "Lada-1300"
                },
                {
                  "CYL": 2664,
                  "PUISS": 136,
                  "LONG": 472,
                  "LARG": 177,
                  "POIDS": 1410,
                  "V-MAX": 180,
                  "_deepnote_index_column": "Peugeot 604"
                },
                {
                  "CYL": 1288,
                  "PUISS": 74,
                  "LONG": 157,
                  "LARG": 157,
                  "POIDS": 915,
                  "V-MAX": 160,
                  "_deepnote_index_column": "Peugeot 304 S"
                }
              ],
              "rows_bottom": null
            },
            "text/plain": "                  CYL  PUISS  LONG  LARG  POIDS  V-MAX\nModele                                                \nAlfasud TI       1350     79   393   161    870    165\nAudi 100         1588     85   468   177   1110    160\nSimca 1300       1294     68   424   168   1050    152\nCitroen GS Club  1222     59   412   161    930    151\nFiat 132         1585     98   439   164   1105    165\nLancia Beta      1297     82   429   169   1080    160\nPeugeot 504      1796     79   449   169   1160    154\nRenault 16 TL    1565     55   424   163   1010    140\nRenault 30       2664    128   452   173   1320    180\nToyota Corolla   1166     55   399   157    815    140\nAlfetta-1.66     1570    109   428   162   1060    175\nPrincess-1800    1798     82   445   172   1160    158\nDatsun-200L      1998    115   469   169   1370    160\nTaunus-2000      1993     98   438   170   1080    167\nRancho           1442     80   431   166   1129    144\nMazda-9295       1769     83   440   165   1095    165\nOpel-Rekord      1979    100   459   173   1120    173\nLada-1300        1294     68   404   161    955    140\nPeugeot 604      2664    136   472   177   1410    180\nPeugeot 304 S    1288     74   157   157    915    160",
            "text/html": "<div>\n<style scoped>\n    .dataframe tbody tr th:only-of-type {\n        vertical-align: middle;\n    }\n\n    .dataframe tbody tr th {\n        vertical-align: top;\n    }\n\n    .dataframe thead th {\n        text-align: right;\n    }\n</style>\n<table border=\"1\" class=\"dataframe\">\n  <thead>\n    <tr style=\"text-align: right;\">\n      <th></th>\n      <th>CYL</th>\n      <th>PUISS</th>\n      <th>LONG</th>\n      <th>LARG</th>\n      <th>POIDS</th>\n      <th>V-MAX</th>\n    </tr>\n    <tr>\n      <th>Modele</th>\n      <th></th>\n      <th></th>\n      <th></th>\n      <th></th>\n      <th></th>\n      <th></th>\n    </tr>\n  </thead>\n  <tbody>\n    <tr>\n      <th>Alfasud TI</th>\n      <td>1350</td>\n      <td>79</td>\n      <td>393</td>\n      <td>161</td>\n      <td>870</td>\n      <td>165</td>\n    </tr>\n    <tr>\n      <th>Audi 100</th>\n      <td>1588</td>\n      <td>85</td>\n      <td>468</td>\n      <td>177</td>\n      <td>1110</td>\n      <td>160</td>\n    </tr>\n    <tr>\n      <th>Simca 1300</th>\n      <td>1294</td>\n      <td>68</td>\n      <td>424</td>\n      <td>168</td>\n      <td>1050</td>\n      <td>152</td>\n    </tr>\n    <tr>\n      <th>Citroen GS Club</th>\n      <td>1222</td>\n      <td>59</td>\n      <td>412</td>\n      <td>161</td>\n      <td>930</td>\n      <td>151</td>\n    </tr>\n    <tr>\n      <th>Fiat 132</th>\n      <td>1585</td>\n      <td>98</td>\n      <td>439</td>\n      <td>164</td>\n      <td>1105</td>\n      <td>165</td>\n    </tr>\n    <tr>\n      <th>Lancia Beta</th>\n      <td>1297</td>\n      <td>82</td>\n      <td>429</td>\n      <td>169</td>\n      <td>1080</td>\n      <td>160</td>\n    </tr>\n    <tr>\n      <th>Peugeot 504</th>\n      <td>1796</td>\n      <td>79</td>\n      <td>449</td>\n      <td>169</td>\n      <td>1160</td>\n      <td>154</td>\n    </tr>\n    <tr>\n      <th>Renault 16 TL</th>\n      <td>1565</td>\n      <td>55</td>\n      <td>424</td>\n      <td>163</td>\n      <td>1010</td>\n      <td>140</td>\n    </tr>\n    <tr>\n      <th>Renault 30</th>\n      <td>2664</td>\n      <td>128</td>\n      <td>452</td>\n      <td>173</td>\n      <td>1320</td>\n      <td>180</td>\n    </tr>\n    <tr>\n      <th>Toyota Corolla</th>\n      <td>1166</td>\n      <td>55</td>\n      <td>399</td>\n      <td>157</td>\n      <td>815</td>\n      <td>140</td>\n    </tr>\n    <tr>\n      <th>Alfetta-1.66</th>\n      <td>1570</td>\n      <td>109</td>\n      <td>428</td>\n      <td>162</td>\n      <td>1060</td>\n      <td>175</td>\n    </tr>\n    <tr>\n      <th>Princess-1800</th>\n      <td>1798</td>\n      <td>82</td>\n      <td>445</td>\n      <td>172</td>\n      <td>1160</td>\n      <td>158</td>\n    </tr>\n    <tr>\n      <th>Datsun-200L</th>\n      <td>1998</td>\n      <td>115</td>\n      <td>469</td>\n      <td>169</td>\n      <td>1370</td>\n      <td>160</td>\n    </tr>\n    <tr>\n      <th>Taunus-2000</th>\n      <td>1993</td>\n      <td>98</td>\n      <td>438</td>\n      <td>170</td>\n      <td>1080</td>\n      <td>167</td>\n    </tr>\n    <tr>\n      <th>Rancho</th>\n      <td>1442</td>\n      <td>80</td>\n      <td>431</td>\n      <td>166</td>\n      <td>1129</td>\n      <td>144</td>\n    </tr>\n    <tr>\n      <th>Mazda-9295</th>\n      <td>1769</td>\n      <td>83</td>\n      <td>440</td>\n      <td>165</td>\n      <td>1095</td>\n      <td>165</td>\n    </tr>\n    <tr>\n      <th>Opel-Rekord</th>\n      <td>1979</td>\n      <td>100</td>\n      <td>459</td>\n      <td>173</td>\n      <td>1120</td>\n      <td>173</td>\n    </tr>\n    <tr>\n      <th>Lada-1300</th>\n      <td>1294</td>\n      <td>68</td>\n      <td>404</td>\n      <td>161</td>\n      <td>955</td>\n      <td>140</td>\n    </tr>\n    <tr>\n      <th>Peugeot 604</th>\n      <td>2664</td>\n      <td>136</td>\n      <td>472</td>\n      <td>177</td>\n      <td>1410</td>\n      <td>180</td>\n    </tr>\n    <tr>\n      <th>Peugeot 304 S</th>\n      <td>1288</td>\n      <td>74</td>\n      <td>157</td>\n      <td>157</td>\n      <td>915</td>\n      <td>160</td>\n    </tr>\n  </tbody>\n</table>\n</div>"
          },
          "metadata": {}
        }
      ]
    },
    {
      "cell_type": "code",
      "metadata": {
        "tags": [],
        "cell_id": "00074-76c67a95-ea3a-4d46-a665-03ada53c9da7",
        "deepnote_to_be_reexecuted": false,
        "source_hash": "9ce9b979",
        "execution_millis": 15,
        "execution_start": 1619175908792,
        "deepnote_cell_type": "code"
      },
      "source": "# Scale the data with StandardScalar\n\ndf2[num_cols] = scalar.fit_transform(df2[num_cols])\nprint(df2)",
      "execution_count": 42,
      "outputs": [
        {
          "name": "stdout",
          "text": "                   CYL  PUISS   LONG   LARG  POIDS  V-MAX\nModele                                                   \nAlfasud TI      -0.752 -0.347 -0.443 -0.977 -1.442  0.457\nAudi 100        -0.186 -0.075  0.718  1.766  0.151  0.045\nSimca 1300      -0.885 -0.846  0.037  0.223 -0.247 -0.613\nCitroen GS Club -1.056 -1.254 -0.149 -0.977 -1.043 -0.695\nFiat 132        -0.193  0.515  0.269 -0.463  0.118  0.457\nLancia Beta     -0.878 -0.211  0.115  0.394 -0.048  0.045\nPeugeot 504      0.309 -0.347  0.424  0.394  0.483 -0.449\nRenault 16 TL   -0.240 -1.435  0.037 -0.634 -0.512 -1.601\nRenault 30       2.373  1.875  0.471  1.080  1.545  1.691\nToyota Corolla  -1.189 -1.435 -0.350 -1.663 -1.807 -1.601\nAlfetta-1.66    -0.229  1.013  0.099 -0.806 -0.181  1.280\nPrincess-1800    0.314 -0.211  0.362  0.909  0.483 -0.119\nDatsun-200L      0.789  1.285  0.734  0.394  1.877  0.045\nTaunus-2000      0.777  0.515  0.254  0.566 -0.048  0.621\nRancho          -0.533 -0.302  0.146 -0.120  0.277 -1.271\nMazda-9295       0.245 -0.165  0.285 -0.292  0.052  0.457\nOpel-Rekord      0.744  0.605  0.579  1.080  0.218  1.115\nLada-1300       -0.885 -0.846 -0.273 -0.977 -0.877 -1.601\nPeugeot 604      2.373  2.238  0.780  1.766  2.143  1.691\nPeugeot 304 S   -0.899 -0.574 -4.097 -1.663 -1.143  0.045\n",
          "output_type": "stream"
        }
      ]
    },
    {
      "cell_type": "code",
      "metadata": {
        "tags": [],
        "cell_id": "00077-767898e6-5512-45de-9b36-eded2953a7b8",
        "deepnote_to_be_reexecuted": false,
        "source_hash": "d99e3da3",
        "execution_millis": 12,
        "execution_start": 1619175908804,
        "deepnote_cell_type": "code"
      },
      "source": "# Projection on the factorial space\ncoord_sup = acp.transform(df2)\nprint(coord_sup)",
      "execution_count": 43,
      "outputs": [
        {
          "name": "stdout",
          "text": "[[-1.48722050e+00  1.01379124e+00  6.28841515e-01 -1.64615479e-01\n   6.57016345e-01 -1.72678019e-01]\n [ 9.57113362e-01 -1.14659177e+00  1.14507286e+00  4.31573165e-04\n  -3.63384950e-01 -1.63290588e-01]\n [-9.57119311e-01 -8.96341723e-01  4.28548798e-01 -2.55816193e-01\n  -5.65017277e-03  1.31379355e-01]\n [-2.11716853e+00 -3.33028979e-01  1.71808666e-01 -2.03717408e-01\n   7.53536186e-01  6.63179117e-02]\n [ 2.84346560e-01  5.40038857e-01 -1.24277046e-01 -5.82483306e-01\n   2.88025232e-01 -3.69081511e-02]\n [-2.65320920e-01 -3.80125938e-01  6.40771641e-01 -5.71068087e-01\n  -1.52894059e-01  1.13138356e-01]\n [ 3.63397449e-01 -8.51794017e-01 -2.29639357e-01  2.25578854e-01\n   3.83024679e-02  1.52421403e-01]\n [-1.73242186e+00 -1.22665222e+00 -5.59751944e-01  4.46990741e-01\n   5.69697930e-01 -4.65280636e-02]\n [ 3.68777452e+00  1.07179463e+00 -4.27950946e-01  7.52224991e-01\n  -5.15237419e-01  1.38376856e-01]\n [-3.25402846e+00 -4.12017849e-01 -2.45805678e-01 -3.82941025e-02\n   1.02922943e+00 -5.55989406e-01]\n [ 4.41895715e-01  1.54872058e+00  1.21359429e-01 -7.85085942e-01\n   4.21896365e-01 -7.66693549e-02]\n [ 7.13888813e-01 -7.94564452e-01  2.10305387e-01  2.82695762e-01\n  -2.30069160e-01  1.72398528e-01]\n [ 2.16382111e+00 -2.73192343e-01 -1.11583566e+00 -5.13933545e-01\n  -4.73440330e-01  6.78835446e-02]\n [ 1.07580925e+00  3.50245108e-01  3.14205003e-01  4.61169698e-01\n   1.33788278e-02 -2.24731818e-01]\n [-6.75672232e-01 -1.05342242e+00 -5.70234606e-01 -3.78847986e-01\n  -1.52842589e-01 -2.14160645e-01]\n [ 2.27699259e-01  2.44840561e-01 -1.63093712e-02  6.62600586e-02\n   5.03649757e-01  3.07573864e-01]\n [ 1.72754194e+00  2.62073596e-01  7.53473038e-01  3.03266714e-01\n  -1.44311357e-02 -1.78052779e-02]\n [-2.17801114e+00 -6.92499852e-01 -4.92433375e-01 -1.60225697e-01\n   3.47801905e-01 -4.97225099e-01]\n [ 4.49385229e+00  6.44137089e-01 -3.48563659e-01  5.00690396e-01\n  -9.05447661e-01  1.21627943e-01]\n [-3.47017732e+00  2.38458991e+00 -2.83584686e-01  6.14778958e-01\n  -1.80913697e+00  7.34868661e-01]]\n",
          "output_type": "stream"
        }
      ]
    },
    {
      "cell_type": "code",
      "metadata": {
        "tags": [],
        "cell_id": "00080-ffa1b435-6111-468d-8628-4ddedafde177",
        "deepnote_to_be_reexecuted": false,
        "source_hash": "2d216df2",
        "execution_millis": 264,
        "execution_start": 1619175908823,
        "deepnote_cell_type": "code"
      },
      "source": "#positionnement des individus supplémentaires dans le premier plan\nfig, axes = plt.subplots(figsize=(12,12))\naxes.set_xlim(-6,6)\naxes.set_ylim(-6,6)\n\n#étiquette des points actifs\nfor i in range(n):\n    plt.annotate(df2.index[i],(coord[i,0],coord[i,1]))\n\n#étiquette des points supplémentaires (illustratifs)en bleu ‘b’\nplt.annotate(df2.index[-1],(coord_sup[-1,0],coord_sup[-1,1]),color='b')\nplt.annotate(df2.index[-2],(coord_sup[-2,0],coord_sup[-2,1]),color='b')\n\n#ajouter les axes\nplt.plot([-6,6],[0,0],color='silver',linestyle='-',linewidth=1)\nplt.plot([0,0],[-6,6],color='silver',linestyle='-',linewidth=1)\n\n#affichage\nplt.show()",
      "execution_count": 44,
      "outputs": [
        {
          "data": {
            "text/plain": "<Figure size 864x864 with 1 Axes>",
            "image/png": "[encoded data removed]"
          },
          "metadata": {
            "needs_background": "light"
          },
          "output_type": "display_data"
        }
      ]
    },
    {
      "cell_type": "markdown",
      "source": "<a style='text-decoration:none;line-height:16px;display:flex;color:#5B5B62;padding:10px;justify-content:end;' href='https://deepnote.com?utm_source=created-in-deepnote-cell&projectId=ee9e5ea5-15d7-436a-bb12-da478ad29584' target=\"_blank\">\n<img alt='Created in deepnote.com' style='display:inline;max-height:16px;margin:0px;margin-right:7.5px;' src='data:image/svg+xml;base64,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' > </img>\nCreated in <span style='font-weight:600;margin-left:4px;'>Deepnote</span></a>",
      "metadata": {
        "tags": [],
        "created_in_deepnote_cell": true,
        "deepnote_cell_type": "markdown"
      }
    }
  ],
  "nbformat": 4,
  "nbformat_minor": 2,
  "metadata": {
    "orig_nbformat": 2,
    "deepnote": {
      "is_reactive": false
    },
    "deepnote_notebook_id": "3e0c528f-ab47-4fe1-9ba2-fb08de384722",
    "deepnote_execution_queue": []
  }
}